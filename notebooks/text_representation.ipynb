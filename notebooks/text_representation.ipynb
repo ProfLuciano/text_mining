{
  "nbformat": 4,
  "nbformat_minor": 0,
  "metadata": {
    "colab": {
      "provenance": []
    },
    "kernelspec": {
      "name": "python3",
      "display_name": "Python 3"
    },
    "language_info": {
      "name": "python"
    }
  },
  "cells": [
    {
      "cell_type": "code",
      "execution_count": 14,
      "metadata": {
        "id": "ksvtdJV5or6z"
      },
      "outputs": [],
      "source": [
        "import numpy as np\n",
        "import pandas as pd"
      ]
    },
    {
      "cell_type": "markdown",
      "source": [
        "# One-hot Encoder"
      ],
      "metadata": {
        "id": "2nukysxhMIbJ"
      }
    },
    {
      "cell_type": "code",
      "source": [
        "from sklearn.preprocessing import OneHotEncoder"
      ],
      "metadata": {
        "id": "UqOH-3CGUqFu"
      },
      "execution_count": 15,
      "outputs": []
    },
    {
      "cell_type": "code",
      "source": [
        "level = np.array(['Lower', 'Middle', 'Upper'])\n",
        "# binary encode\n",
        "onehot_encoder = OneHotEncoder(sparse=False)\n",
        "onehot_level = onehot_encoder.fit_transform(level.reshape(-1, 1))\n",
        "print(onehot_level)"
      ],
      "metadata": {
        "colab": {
          "base_uri": "https://localhost:8080/"
        },
        "id": "CVAHF1SsNDG4",
        "outputId": "fdd6ff31-55b0-4618-9751-8dca7388a271"
      },
      "execution_count": 16,
      "outputs": [
        {
          "output_type": "stream",
          "name": "stdout",
          "text": [
            "[[1. 0. 0.]\n",
            " [0. 1. 0.]\n",
            " [0. 0. 1.]]\n"
          ]
        },
        {
          "output_type": "stream",
          "name": "stderr",
          "text": [
            "/usr/local/lib/python3.8/dist-packages/sklearn/preprocessing/_encoders.py:828: FutureWarning: `sparse` was renamed to `sparse_output` in version 1.2 and will be removed in 1.4. `sparse_output` is ignored unless you leave `sparse` to its default value.\n",
            "  warnings.warn(\n"
          ]
        }
      ]
    },
    {
      "cell_type": "code",
      "source": [
        "print(onehot_encoder.inverse_transform([[1., 0., 0.]]))"
      ],
      "metadata": {
        "colab": {
          "base_uri": "https://localhost:8080/"
        },
        "id": "-HD6QQYxNzuc",
        "outputId": "a1da01e4-cc70-426d-9f24-2f53c8648620"
      },
      "execution_count": 17,
      "outputs": [
        {
          "output_type": "stream",
          "name": "stdout",
          "text": [
            "[['Lower']]\n"
          ]
        }
      ]
    },
    {
      "cell_type": "markdown",
      "source": [
        "# Bag-of-Words"
      ],
      "metadata": {
        "id": "TxrNN2wXO-nu"
      }
    },
    {
      "cell_type": "code",
      "source": [
        "from sklearn.feature_extraction.text import CountVectorizer"
      ],
      "metadata": {
        "id": "kKesdq-iUs-6"
      },
      "execution_count": 18,
      "outputs": []
    },
    {
      "cell_type": "code",
      "source": [
        "doc1 = \"Doctor Who is a wonderful TV series! I've watched all the episodes.\"\n",
        "doc2 = \"Doctor Who is the best TV series!\"\n",
        "doc3 = \"Doctor Who is very nice.\"\n",
        "\n",
        "corpus = [doc1, doc2, doc3]"
      ],
      "metadata": {
        "id": "wCsgWdaWRZxr"
      },
      "execution_count": 19,
      "outputs": []
    },
    {
      "cell_type": "code",
      "source": [
        "# TF as weight\n",
        "vectorizer = CountVectorizer()\n",
        "X = vectorizer.fit_transform(corpus)\n",
        "print(vectorizer.get_feature_names_out())"
      ],
      "metadata": {
        "colab": {
          "base_uri": "https://localhost:8080/"
        },
        "id": "6dEYBJBgN0O6",
        "outputId": "3d277f28-239a-4ae0-e34c-71fcb05c8ca2"
      },
      "execution_count": 20,
      "outputs": [
        {
          "output_type": "stream",
          "name": "stdout",
          "text": [
            "['all' 'best' 'doctor' 'episodes' 'is' 'nice' 'series' 'the' 'tv' 've'\n",
            " 'very' 'watched' 'who' 'wonderful']\n"
          ]
        }
      ]
    },
    {
      "cell_type": "code",
      "source": [
        "df_bow_sklearn = pd.DataFrame(X.toarray(),columns=vectorizer.get_feature_names_out())\n",
        "df_bow_sklearn.head()"
      ],
      "metadata": {
        "colab": {
          "base_uri": "https://localhost:8080/",
          "height": 143
        },
        "id": "-0J3KpgPPhfI",
        "outputId": "c24bafb6-46f6-4e8b-dfa0-89380dffad99"
      },
      "execution_count": 22,
      "outputs": [
        {
          "output_type": "execute_result",
          "data": {
            "text/plain": [
              "   all  best  doctor  episodes  is  nice  series  the  tv  ve  very  watched  \\\n",
              "0    1     0       1         1   1     0       1    1   1   1     0        1   \n",
              "1    0     1       1         0   1     0       1    1   1   0     0        0   \n",
              "2    0     0       1         0   1     1       0    0   0   0     1        0   \n",
              "\n",
              "   who  wonderful  \n",
              "0    1          1  \n",
              "1    1          0  \n",
              "2    1          0  "
            ],
            "text/html": [
              "\n",
              "  <div id=\"df-fea941e2-0f7b-47dc-ab87-876d60699622\">\n",
              "    <div class=\"colab-df-container\">\n",
              "      <div>\n",
              "<style scoped>\n",
              "    .dataframe tbody tr th:only-of-type {\n",
              "        vertical-align: middle;\n",
              "    }\n",
              "\n",
              "    .dataframe tbody tr th {\n",
              "        vertical-align: top;\n",
              "    }\n",
              "\n",
              "    .dataframe thead th {\n",
              "        text-align: right;\n",
              "    }\n",
              "</style>\n",
              "<table border=\"1\" class=\"dataframe\">\n",
              "  <thead>\n",
              "    <tr style=\"text-align: right;\">\n",
              "      <th></th>\n",
              "      <th>all</th>\n",
              "      <th>best</th>\n",
              "      <th>doctor</th>\n",
              "      <th>episodes</th>\n",
              "      <th>is</th>\n",
              "      <th>nice</th>\n",
              "      <th>series</th>\n",
              "      <th>the</th>\n",
              "      <th>tv</th>\n",
              "      <th>ve</th>\n",
              "      <th>very</th>\n",
              "      <th>watched</th>\n",
              "      <th>who</th>\n",
              "      <th>wonderful</th>\n",
              "    </tr>\n",
              "  </thead>\n",
              "  <tbody>\n",
              "    <tr>\n",
              "      <th>0</th>\n",
              "      <td>1</td>\n",
              "      <td>0</td>\n",
              "      <td>1</td>\n",
              "      <td>1</td>\n",
              "      <td>1</td>\n",
              "      <td>0</td>\n",
              "      <td>1</td>\n",
              "      <td>1</td>\n",
              "      <td>1</td>\n",
              "      <td>1</td>\n",
              "      <td>0</td>\n",
              "      <td>1</td>\n",
              "      <td>1</td>\n",
              "      <td>1</td>\n",
              "    </tr>\n",
              "    <tr>\n",
              "      <th>1</th>\n",
              "      <td>0</td>\n",
              "      <td>1</td>\n",
              "      <td>1</td>\n",
              "      <td>0</td>\n",
              "      <td>1</td>\n",
              "      <td>0</td>\n",
              "      <td>1</td>\n",
              "      <td>1</td>\n",
              "      <td>1</td>\n",
              "      <td>0</td>\n",
              "      <td>0</td>\n",
              "      <td>0</td>\n",
              "      <td>1</td>\n",
              "      <td>0</td>\n",
              "    </tr>\n",
              "    <tr>\n",
              "      <th>2</th>\n",
              "      <td>0</td>\n",
              "      <td>0</td>\n",
              "      <td>1</td>\n",
              "      <td>0</td>\n",
              "      <td>1</td>\n",
              "      <td>1</td>\n",
              "      <td>0</td>\n",
              "      <td>0</td>\n",
              "      <td>0</td>\n",
              "      <td>0</td>\n",
              "      <td>1</td>\n",
              "      <td>0</td>\n",
              "      <td>1</td>\n",
              "      <td>0</td>\n",
              "    </tr>\n",
              "  </tbody>\n",
              "</table>\n",
              "</div>\n",
              "      <button class=\"colab-df-convert\" onclick=\"convertToInteractive('df-fea941e2-0f7b-47dc-ab87-876d60699622')\"\n",
              "              title=\"Convert this dataframe to an interactive table.\"\n",
              "              style=\"display:none;\">\n",
              "        \n",
              "  <svg xmlns=\"http://www.w3.org/2000/svg\" height=\"24px\"viewBox=\"0 0 24 24\"\n",
              "       width=\"24px\">\n",
              "    <path d=\"M0 0h24v24H0V0z\" fill=\"none\"/>\n",
              "    <path d=\"M18.56 5.44l.94 2.06.94-2.06 2.06-.94-2.06-.94-.94-2.06-.94 2.06-2.06.94zm-11 1L8.5 8.5l.94-2.06 2.06-.94-2.06-.94L8.5 2.5l-.94 2.06-2.06.94zm10 10l.94 2.06.94-2.06 2.06-.94-2.06-.94-.94-2.06-.94 2.06-2.06.94z\"/><path d=\"M17.41 7.96l-1.37-1.37c-.4-.4-.92-.59-1.43-.59-.52 0-1.04.2-1.43.59L10.3 9.45l-7.72 7.72c-.78.78-.78 2.05 0 2.83L4 21.41c.39.39.9.59 1.41.59.51 0 1.02-.2 1.41-.59l7.78-7.78 2.81-2.81c.8-.78.8-2.07 0-2.86zM5.41 20L4 18.59l7.72-7.72 1.47 1.35L5.41 20z\"/>\n",
              "  </svg>\n",
              "      </button>\n",
              "      \n",
              "  <style>\n",
              "    .colab-df-container {\n",
              "      display:flex;\n",
              "      flex-wrap:wrap;\n",
              "      gap: 12px;\n",
              "    }\n",
              "\n",
              "    .colab-df-convert {\n",
              "      background-color: #E8F0FE;\n",
              "      border: none;\n",
              "      border-radius: 50%;\n",
              "      cursor: pointer;\n",
              "      display: none;\n",
              "      fill: #1967D2;\n",
              "      height: 32px;\n",
              "      padding: 0 0 0 0;\n",
              "      width: 32px;\n",
              "    }\n",
              "\n",
              "    .colab-df-convert:hover {\n",
              "      background-color: #E2EBFA;\n",
              "      box-shadow: 0px 1px 2px rgba(60, 64, 67, 0.3), 0px 1px 3px 1px rgba(60, 64, 67, 0.15);\n",
              "      fill: #174EA6;\n",
              "    }\n",
              "\n",
              "    [theme=dark] .colab-df-convert {\n",
              "      background-color: #3B4455;\n",
              "      fill: #D2E3FC;\n",
              "    }\n",
              "\n",
              "    [theme=dark] .colab-df-convert:hover {\n",
              "      background-color: #434B5C;\n",
              "      box-shadow: 0px 1px 3px 1px rgba(0, 0, 0, 0.15);\n",
              "      filter: drop-shadow(0px 1px 2px rgba(0, 0, 0, 0.3));\n",
              "      fill: #FFFFFF;\n",
              "    }\n",
              "  </style>\n",
              "\n",
              "      <script>\n",
              "        const buttonEl =\n",
              "          document.querySelector('#df-fea941e2-0f7b-47dc-ab87-876d60699622 button.colab-df-convert');\n",
              "        buttonEl.style.display =\n",
              "          google.colab.kernel.accessAllowed ? 'block' : 'none';\n",
              "\n",
              "        async function convertToInteractive(key) {\n",
              "          const element = document.querySelector('#df-fea941e2-0f7b-47dc-ab87-876d60699622');\n",
              "          const dataTable =\n",
              "            await google.colab.kernel.invokeFunction('convertToInteractive',\n",
              "                                                     [key], {});\n",
              "          if (!dataTable) return;\n",
              "\n",
              "          const docLinkHtml = 'Like what you see? Visit the ' +\n",
              "            '<a target=\"_blank\" href=https://colab.research.google.com/notebooks/data_table.ipynb>data table notebook</a>'\n",
              "            + ' to learn more about interactive tables.';\n",
              "          element.innerHTML = '';\n",
              "          dataTable['output_type'] = 'display_data';\n",
              "          await google.colab.output.renderOutput(dataTable, element);\n",
              "          const docLink = document.createElement('div');\n",
              "          docLink.innerHTML = docLinkHtml;\n",
              "          element.appendChild(docLink);\n",
              "        }\n",
              "      </script>\n",
              "    </div>\n",
              "  </div>\n",
              "  "
            ]
          },
          "metadata": {},
          "execution_count": 22
        }
      ]
    },
    {
      "cell_type": "markdown",
      "source": [
        "# TF-IDF"
      ],
      "metadata": {
        "id": "00NRSE4rSqT-"
      }
    },
    {
      "cell_type": "code",
      "source": [
        "from sklearn.feature_extraction.text import TfidfVectorizer"
      ],
      "metadata": {
        "id": "pJbGkJw5Srhe"
      },
      "execution_count": 23,
      "outputs": []
    },
    {
      "cell_type": "code",
      "source": [
        "doc1 = \"Doctor Who is a wonderful TV series! I've watched all the episodes.\"\n",
        "doc2 = \"Doctor Who is the best TV series!\"\n",
        "doc3 = \"Doctor Who is very nice.\"\n",
        "\n",
        "corpus = [doc1, doc2, doc3]"
      ],
      "metadata": {
        "id": "zAVIf8YlVC1Z"
      },
      "execution_count": 24,
      "outputs": []
    },
    {
      "cell_type": "code",
      "source": [
        "tfidf_vectorizer = TfidfVectorizer()\n",
        "X_train_tfidf_vectorize = tfidf_vectorizer.fit_transform(corpus)"
      ],
      "metadata": {
        "id": "ITTKOefnVACy"
      },
      "execution_count": 25,
      "outputs": []
    },
    {
      "cell_type": "code",
      "source": [
        "df_tf_idf = pd.DataFrame(X_train_tfidf_vectorize.toarray(), columns=tfidf_vectorizer.get_feature_names_out())\n",
        "df_tf_idf.shape"
      ],
      "metadata": {
        "colab": {
          "base_uri": "https://localhost:8080/"
        },
        "id": "T_iW9_N4VOLf",
        "outputId": "5f1b468a-46e4-4349-bb32-f3c39091f058"
      },
      "execution_count": 27,
      "outputs": [
        {
          "output_type": "execute_result",
          "data": {
            "text/plain": [
              "(3, 14)"
            ]
          },
          "metadata": {},
          "execution_count": 27
        }
      ]
    },
    {
      "cell_type": "code",
      "source": [
        "df_tf_idf.head()"
      ],
      "metadata": {
        "colab": {
          "base_uri": "https://localhost:8080/",
          "height": 207
        },
        "id": "0PtLGQEcVNq1",
        "outputId": "6d230d45-aa6d-4977-fbf1-e20927f53366"
      },
      "execution_count": 28,
      "outputs": [
        {
          "output_type": "execute_result",
          "data": {
            "text/plain": [
              "        all     best    doctor  episodes        is      nice    series  \\\n",
              "0  0.358479  0.00000  0.211723  0.358479  0.211723  0.000000  0.272632   \n",
              "1  0.000000  0.51423  0.303713  0.000000  0.303713  0.000000  0.391085   \n",
              "2  0.000000  0.00000  0.338381  0.000000  0.338381  0.572929  0.000000   \n",
              "\n",
              "        the        tv        ve      very   watched       who  wonderful  \n",
              "0  0.272632  0.272632  0.358479  0.000000  0.358479  0.211723   0.358479  \n",
              "1  0.391085  0.391085  0.000000  0.000000  0.000000  0.303713   0.000000  \n",
              "2  0.000000  0.000000  0.000000  0.572929  0.000000  0.338381   0.000000  "
            ],
            "text/html": [
              "\n",
              "  <div id=\"df-4a202e71-12f8-4ccd-8c5a-06d32f28d56d\">\n",
              "    <div class=\"colab-df-container\">\n",
              "      <div>\n",
              "<style scoped>\n",
              "    .dataframe tbody tr th:only-of-type {\n",
              "        vertical-align: middle;\n",
              "    }\n",
              "\n",
              "    .dataframe tbody tr th {\n",
              "        vertical-align: top;\n",
              "    }\n",
              "\n",
              "    .dataframe thead th {\n",
              "        text-align: right;\n",
              "    }\n",
              "</style>\n",
              "<table border=\"1\" class=\"dataframe\">\n",
              "  <thead>\n",
              "    <tr style=\"text-align: right;\">\n",
              "      <th></th>\n",
              "      <th>all</th>\n",
              "      <th>best</th>\n",
              "      <th>doctor</th>\n",
              "      <th>episodes</th>\n",
              "      <th>is</th>\n",
              "      <th>nice</th>\n",
              "      <th>series</th>\n",
              "      <th>the</th>\n",
              "      <th>tv</th>\n",
              "      <th>ve</th>\n",
              "      <th>very</th>\n",
              "      <th>watched</th>\n",
              "      <th>who</th>\n",
              "      <th>wonderful</th>\n",
              "    </tr>\n",
              "  </thead>\n",
              "  <tbody>\n",
              "    <tr>\n",
              "      <th>0</th>\n",
              "      <td>0.358479</td>\n",
              "      <td>0.00000</td>\n",
              "      <td>0.211723</td>\n",
              "      <td>0.358479</td>\n",
              "      <td>0.211723</td>\n",
              "      <td>0.000000</td>\n",
              "      <td>0.272632</td>\n",
              "      <td>0.272632</td>\n",
              "      <td>0.272632</td>\n",
              "      <td>0.358479</td>\n",
              "      <td>0.000000</td>\n",
              "      <td>0.358479</td>\n",
              "      <td>0.211723</td>\n",
              "      <td>0.358479</td>\n",
              "    </tr>\n",
              "    <tr>\n",
              "      <th>1</th>\n",
              "      <td>0.000000</td>\n",
              "      <td>0.51423</td>\n",
              "      <td>0.303713</td>\n",
              "      <td>0.000000</td>\n",
              "      <td>0.303713</td>\n",
              "      <td>0.000000</td>\n",
              "      <td>0.391085</td>\n",
              "      <td>0.391085</td>\n",
              "      <td>0.391085</td>\n",
              "      <td>0.000000</td>\n",
              "      <td>0.000000</td>\n",
              "      <td>0.000000</td>\n",
              "      <td>0.303713</td>\n",
              "      <td>0.000000</td>\n",
              "    </tr>\n",
              "    <tr>\n",
              "      <th>2</th>\n",
              "      <td>0.000000</td>\n",
              "      <td>0.00000</td>\n",
              "      <td>0.338381</td>\n",
              "      <td>0.000000</td>\n",
              "      <td>0.338381</td>\n",
              "      <td>0.572929</td>\n",
              "      <td>0.000000</td>\n",
              "      <td>0.000000</td>\n",
              "      <td>0.000000</td>\n",
              "      <td>0.000000</td>\n",
              "      <td>0.572929</td>\n",
              "      <td>0.000000</td>\n",
              "      <td>0.338381</td>\n",
              "      <td>0.000000</td>\n",
              "    </tr>\n",
              "  </tbody>\n",
              "</table>\n",
              "</div>\n",
              "      <button class=\"colab-df-convert\" onclick=\"convertToInteractive('df-4a202e71-12f8-4ccd-8c5a-06d32f28d56d')\"\n",
              "              title=\"Convert this dataframe to an interactive table.\"\n",
              "              style=\"display:none;\">\n",
              "        \n",
              "  <svg xmlns=\"http://www.w3.org/2000/svg\" height=\"24px\"viewBox=\"0 0 24 24\"\n",
              "       width=\"24px\">\n",
              "    <path d=\"M0 0h24v24H0V0z\" fill=\"none\"/>\n",
              "    <path d=\"M18.56 5.44l.94 2.06.94-2.06 2.06-.94-2.06-.94-.94-2.06-.94 2.06-2.06.94zm-11 1L8.5 8.5l.94-2.06 2.06-.94-2.06-.94L8.5 2.5l-.94 2.06-2.06.94zm10 10l.94 2.06.94-2.06 2.06-.94-2.06-.94-.94-2.06-.94 2.06-2.06.94z\"/><path d=\"M17.41 7.96l-1.37-1.37c-.4-.4-.92-.59-1.43-.59-.52 0-1.04.2-1.43.59L10.3 9.45l-7.72 7.72c-.78.78-.78 2.05 0 2.83L4 21.41c.39.39.9.59 1.41.59.51 0 1.02-.2 1.41-.59l7.78-7.78 2.81-2.81c.8-.78.8-2.07 0-2.86zM5.41 20L4 18.59l7.72-7.72 1.47 1.35L5.41 20z\"/>\n",
              "  </svg>\n",
              "      </button>\n",
              "      \n",
              "  <style>\n",
              "    .colab-df-container {\n",
              "      display:flex;\n",
              "      flex-wrap:wrap;\n",
              "      gap: 12px;\n",
              "    }\n",
              "\n",
              "    .colab-df-convert {\n",
              "      background-color: #E8F0FE;\n",
              "      border: none;\n",
              "      border-radius: 50%;\n",
              "      cursor: pointer;\n",
              "      display: none;\n",
              "      fill: #1967D2;\n",
              "      height: 32px;\n",
              "      padding: 0 0 0 0;\n",
              "      width: 32px;\n",
              "    }\n",
              "\n",
              "    .colab-df-convert:hover {\n",
              "      background-color: #E2EBFA;\n",
              "      box-shadow: 0px 1px 2px rgba(60, 64, 67, 0.3), 0px 1px 3px 1px rgba(60, 64, 67, 0.15);\n",
              "      fill: #174EA6;\n",
              "    }\n",
              "\n",
              "    [theme=dark] .colab-df-convert {\n",
              "      background-color: #3B4455;\n",
              "      fill: #D2E3FC;\n",
              "    }\n",
              "\n",
              "    [theme=dark] .colab-df-convert:hover {\n",
              "      background-color: #434B5C;\n",
              "      box-shadow: 0px 1px 3px 1px rgba(0, 0, 0, 0.15);\n",
              "      filter: drop-shadow(0px 1px 2px rgba(0, 0, 0, 0.3));\n",
              "      fill: #FFFFFF;\n",
              "    }\n",
              "  </style>\n",
              "\n",
              "      <script>\n",
              "        const buttonEl =\n",
              "          document.querySelector('#df-4a202e71-12f8-4ccd-8c5a-06d32f28d56d button.colab-df-convert');\n",
              "        buttonEl.style.display =\n",
              "          google.colab.kernel.accessAllowed ? 'block' : 'none';\n",
              "\n",
              "        async function convertToInteractive(key) {\n",
              "          const element = document.querySelector('#df-4a202e71-12f8-4ccd-8c5a-06d32f28d56d');\n",
              "          const dataTable =\n",
              "            await google.colab.kernel.invokeFunction('convertToInteractive',\n",
              "                                                     [key], {});\n",
              "          if (!dataTable) return;\n",
              "\n",
              "          const docLinkHtml = 'Like what you see? Visit the ' +\n",
              "            '<a target=\"_blank\" href=https://colab.research.google.com/notebooks/data_table.ipynb>data table notebook</a>'\n",
              "            + ' to learn more about interactive tables.';\n",
              "          element.innerHTML = '';\n",
              "          dataTable['output_type'] = 'display_data';\n",
              "          await google.colab.output.renderOutput(dataTable, element);\n",
              "          const docLink = document.createElement('div');\n",
              "          docLink.innerHTML = docLinkHtml;\n",
              "          element.appendChild(docLink);\n",
              "        }\n",
              "      </script>\n",
              "    </div>\n",
              "  </div>\n",
              "  "
            ]
          },
          "metadata": {},
          "execution_count": 28
        }
      ]
    },
    {
      "cell_type": "markdown",
      "source": [
        "# Using text representations in ML models"
      ],
      "metadata": {
        "id": "LIvQIISaVw-i"
      }
    },
    {
      "cell_type": "code",
      "source": [
        "# News dataset\n",
        "from sklearn.datasets import fetch_20newsgroups\n",
        "\n",
        "# One-hot encoder\n",
        "from sklearn.preprocessing import OneHotEncoder\n",
        "\n",
        "# Bag-of-words\n",
        "from sklearn.feature_extraction.text import CountVectorizer\n",
        "\n",
        "# TF-IDF\n",
        "from sklearn.feature_extraction.text import TfidfVectorizer\n",
        "\n",
        "# ML Model\n",
        "from\tsklearn.naive_bayes\timport\tMultinomialNB\n",
        "\n",
        "# Metrics\n",
        "from sklearn import metrics\n",
        "from sklearn.metrics import confusion_matrix"
      ],
      "metadata": {
        "id": "aAbRNJ4KV3-l"
      },
      "execution_count": 29,
      "outputs": []
    },
    {
      "cell_type": "code",
      "source": [
        "cats = ['sci.electronics', 'sci.med', 'sci.space']"
      ],
      "metadata": {
        "id": "gySSwX75pulU"
      },
      "execution_count": 32,
      "outputs": []
    },
    {
      "cell_type": "code",
      "source": [
        "train_data = fetch_20newsgroups(subset='train', categories=cats, shuffle=True, random_state=42)"
      ],
      "metadata": {
        "id": "GOYNOoC8oVUu"
      },
      "execution_count": 33,
      "outputs": []
    },
    {
      "cell_type": "code",
      "source": [
        "print(len(train_data.data))"
      ],
      "metadata": {
        "colab": {
          "base_uri": "https://localhost:8080/"
        },
        "id": "vLZUlua1o3Ez",
        "outputId": "062281de-0288-4edc-a4f4-fd1e80f21a0f"
      },
      "execution_count": 34,
      "outputs": [
        {
          "output_type": "stream",
          "name": "stdout",
          "text": [
            "1778\n"
          ]
        }
      ]
    },
    {
      "cell_type": "code",
      "source": [
        "print(train_data.data[0])\n",
        "print(\"Target: \", train_data.target[0])"
      ],
      "metadata": {
        "colab": {
          "base_uri": "https://localhost:8080/"
        },
        "id": "wsR_Q760q3QD",
        "outputId": "9ee7bb9d-cb7b-4c72-fec4-857c3891da5d"
      },
      "execution_count": 35,
      "outputs": [
        {
          "output_type": "stream",
          "name": "stdout",
          "text": [
            "From: landis@stsci.edu (Robert Landis,S202,,)\n",
            "Subject: Re: Space Debris\n",
            "Reply-To: landis@stsci.edu\n",
            "Organization: Space Telescope Science Institute, Baltimore MD\n",
            "Lines: 14\n",
            "\n",
            "Another fish to check out is Richard Rast -- he works\n",
            "for Lockheed Missiles, but is on-site at NASA Johnson.\n",
            "\n",
            "Nick Johnson at Kaman Sciences in Colo. Spgs and his\n",
            "friend, Darren McKnight at Kaman in Alexandria, VA.\n",
            "\n",
            "Good luck.\n",
            "\n",
            "R. Landis\n",
            "\n",
            "\"Behind every general is his wife.... and...\n",
            " behind every Hillary is a Bill . .\"\n",
            "\n",
            "\n",
            "\n",
            "Target:  2\n"
          ]
        }
      ]
    },
    {
      "cell_type": "code",
      "source": [
        "#vectorizer = CountVectorizer()    # tf\n",
        "vectorizer = TfidfVectorizer()    # tf-idf\n",
        "\n",
        "train_ = train_data.data\n",
        "\n",
        "X_train_tfidf_vectorize = vectorizer.fit_transform(train_)"
      ],
      "metadata": {
        "id": "K5d9KW_MpDd3"
      },
      "execution_count": 36,
      "outputs": []
    },
    {
      "cell_type": "code",
      "source": [
        "clf = MultinomialNB()\n",
        "clf.fit(X_train_tfidf_vectorize, train_data.target)"
      ],
      "metadata": {
        "colab": {
          "base_uri": "https://localhost:8080/",
          "height": 74
        },
        "id": "UdDWxe6gqLN1",
        "outputId": "844d1c0e-c563-4ab4-d8bc-25b1036bbd83"
      },
      "execution_count": 37,
      "outputs": [
        {
          "output_type": "execute_result",
          "data": {
            "text/plain": [
              "MultinomialNB()"
            ],
            "text/html": [
              "<style>#sk-container-id-1 {color: black;background-color: white;}#sk-container-id-1 pre{padding: 0;}#sk-container-id-1 div.sk-toggleable {background-color: white;}#sk-container-id-1 label.sk-toggleable__label {cursor: pointer;display: block;width: 100%;margin-bottom: 0;padding: 0.3em;box-sizing: border-box;text-align: center;}#sk-container-id-1 label.sk-toggleable__label-arrow:before {content: \"▸\";float: left;margin-right: 0.25em;color: #696969;}#sk-container-id-1 label.sk-toggleable__label-arrow:hover:before {color: black;}#sk-container-id-1 div.sk-estimator:hover label.sk-toggleable__label-arrow:before {color: black;}#sk-container-id-1 div.sk-toggleable__content {max-height: 0;max-width: 0;overflow: hidden;text-align: left;background-color: #f0f8ff;}#sk-container-id-1 div.sk-toggleable__content pre {margin: 0.2em;color: black;border-radius: 0.25em;background-color: #f0f8ff;}#sk-container-id-1 input.sk-toggleable__control:checked~div.sk-toggleable__content {max-height: 200px;max-width: 100%;overflow: auto;}#sk-container-id-1 input.sk-toggleable__control:checked~label.sk-toggleable__label-arrow:before {content: \"▾\";}#sk-container-id-1 div.sk-estimator input.sk-toggleable__control:checked~label.sk-toggleable__label {background-color: #d4ebff;}#sk-container-id-1 div.sk-label input.sk-toggleable__control:checked~label.sk-toggleable__label {background-color: #d4ebff;}#sk-container-id-1 input.sk-hidden--visually {border: 0;clip: rect(1px 1px 1px 1px);clip: rect(1px, 1px, 1px, 1px);height: 1px;margin: -1px;overflow: hidden;padding: 0;position: absolute;width: 1px;}#sk-container-id-1 div.sk-estimator {font-family: monospace;background-color: #f0f8ff;border: 1px dotted black;border-radius: 0.25em;box-sizing: border-box;margin-bottom: 0.5em;}#sk-container-id-1 div.sk-estimator:hover {background-color: #d4ebff;}#sk-container-id-1 div.sk-parallel-item::after {content: \"\";width: 100%;border-bottom: 1px solid gray;flex-grow: 1;}#sk-container-id-1 div.sk-label:hover label.sk-toggleable__label {background-color: #d4ebff;}#sk-container-id-1 div.sk-serial::before {content: \"\";position: absolute;border-left: 1px solid gray;box-sizing: border-box;top: 0;bottom: 0;left: 50%;z-index: 0;}#sk-container-id-1 div.sk-serial {display: flex;flex-direction: column;align-items: center;background-color: white;padding-right: 0.2em;padding-left: 0.2em;position: relative;}#sk-container-id-1 div.sk-item {position: relative;z-index: 1;}#sk-container-id-1 div.sk-parallel {display: flex;align-items: stretch;justify-content: center;background-color: white;position: relative;}#sk-container-id-1 div.sk-item::before, #sk-container-id-1 div.sk-parallel-item::before {content: \"\";position: absolute;border-left: 1px solid gray;box-sizing: border-box;top: 0;bottom: 0;left: 50%;z-index: -1;}#sk-container-id-1 div.sk-parallel-item {display: flex;flex-direction: column;z-index: 1;position: relative;background-color: white;}#sk-container-id-1 div.sk-parallel-item:first-child::after {align-self: flex-end;width: 50%;}#sk-container-id-1 div.sk-parallel-item:last-child::after {align-self: flex-start;width: 50%;}#sk-container-id-1 div.sk-parallel-item:only-child::after {width: 0;}#sk-container-id-1 div.sk-dashed-wrapped {border: 1px dashed gray;margin: 0 0.4em 0.5em 0.4em;box-sizing: border-box;padding-bottom: 0.4em;background-color: white;}#sk-container-id-1 div.sk-label label {font-family: monospace;font-weight: bold;display: inline-block;line-height: 1.2em;}#sk-container-id-1 div.sk-label-container {text-align: center;}#sk-container-id-1 div.sk-container {/* jupyter's `normalize.less` sets `[hidden] { display: none; }` but bootstrap.min.css set `[hidden] { display: none !important; }` so we also need the `!important` here to be able to override the default hidden behavior on the sphinx rendered scikit-learn.org. See: https://github.com/scikit-learn/scikit-learn/issues/21755 */display: inline-block !important;position: relative;}#sk-container-id-1 div.sk-text-repr-fallback {display: none;}</style><div id=\"sk-container-id-1\" class=\"sk-top-container\"><div class=\"sk-text-repr-fallback\"><pre>MultinomialNB()</pre><b>In a Jupyter environment, please rerun this cell to show the HTML representation or trust the notebook. <br />On GitHub, the HTML representation is unable to render, please try loading this page with nbviewer.org.</b></div><div class=\"sk-container\" hidden><div class=\"sk-item\"><div class=\"sk-estimator sk-toggleable\"><input class=\"sk-toggleable__control sk-hidden--visually\" id=\"sk-estimator-id-1\" type=\"checkbox\" checked><label for=\"sk-estimator-id-1\" class=\"sk-toggleable__label sk-toggleable__label-arrow\">MultinomialNB</label><div class=\"sk-toggleable__content\"><pre>MultinomialNB()</pre></div></div></div></div></div>"
            ]
          },
          "metadata": {},
          "execution_count": 37
        }
      ]
    },
    {
      "cell_type": "markdown",
      "source": [
        "Model evaluation "
      ],
      "metadata": {
        "id": "Qdn8zOvgqg2e"
      }
    },
    {
      "cell_type": "code",
      "source": [
        "test_data = fetch_20newsgroups(subset='test', categories=cats, shuffle=True, random_state=42)\n",
        "docs_test = test_data.data\n",
        "\n",
        "vect_transform = vectorizer.transform(docs_test)\n",
        "predicted = clf.predict(vect_transform)\n",
        "\n",
        "print(metrics.classification_report(test_data.target, predicted, target_names=test_data.target_names))\n",
        "\n",
        "print(clf.classes_)"
      ],
      "metadata": {
        "colab": {
          "base_uri": "https://localhost:8080/"
        },
        "id": "vxWz_rOjqgJa",
        "outputId": "5ed8b20e-1cfa-49f5-86a7-21765dc3f977"
      },
      "execution_count": 38,
      "outputs": [
        {
          "output_type": "stream",
          "name": "stdout",
          "text": [
            "                 precision    recall  f1-score   support\n",
            "\n",
            "sci.electronics       0.95      0.90      0.92       393\n",
            "        sci.med       0.94      0.94      0.94       396\n",
            "      sci.space       0.92      0.97      0.94       394\n",
            "\n",
            "       accuracy                           0.94      1183\n",
            "      macro avg       0.94      0.94      0.94      1183\n",
            "   weighted avg       0.94      0.94      0.94      1183\n",
            "\n",
            "[0 1 2]\n"
          ]
        }
      ]
    },
    {
      "cell_type": "markdown",
      "source": [
        "# Embeddings\n"
      ],
      "metadata": {
        "id": "7Lga5XG8StF9"
      }
    },
    {
      "cell_type": "markdown",
      "source": [
        "## Pretrained model: Glove\n",
        "\n"
      ],
      "metadata": {
        "id": "HvpEcXG4hJGB"
      }
    },
    {
      "cell_type": "code",
      "source": [
        "import gensim.downloader"
      ],
      "metadata": {
        "id": "34LOA3jxSvTE"
      },
      "execution_count": 39,
      "outputs": []
    },
    {
      "cell_type": "code",
      "source": [
        "glove_vectors = gensim.downloader.load('glove-wiki-gigaword-50')"
      ],
      "metadata": {
        "colab": {
          "base_uri": "https://localhost:8080/"
        },
        "id": "1cdWBjpwWLx0",
        "outputId": "533d09d3-16fe-4884-ef2b-7ba3ea399cba"
      },
      "execution_count": 40,
      "outputs": [
        {
          "output_type": "stream",
          "name": "stdout",
          "text": [
            "[=================================================-] 98.6% 65.0/66.0MB downloaded"
          ]
        }
      ]
    },
    {
      "cell_type": "markdown",
      "source": [
        "## Visualizando os Embeddings"
      ],
      "metadata": {
        "id": "6vWr-9adZ6Vn"
      }
    },
    {
      "cell_type": "code",
      "source": [
        "glove_vectors.wv['computer']"
      ],
      "metadata": {
        "colab": {
          "base_uri": "https://localhost:8080/"
        },
        "id": "7lYU28l7YmB0",
        "outputId": "af80abb7-29cb-42d3-efbb-cb13e488a212"
      },
      "execution_count": 41,
      "outputs": [
        {
          "output_type": "stream",
          "name": "stderr",
          "text": [
            "<ipython-input-41-e22852a42941>:1: DeprecationWarning: Call to deprecated `wv` (Attribute will be removed in 4.0.0, use self instead).\n",
            "  glove_vectors.wv['computer']\n"
          ]
        },
        {
          "output_type": "execute_result",
          "data": {
            "text/plain": [
              "array([ 0.079084, -0.81504 ,  1.7901  ,  0.91653 ,  0.10797 , -0.55628 ,\n",
              "       -0.84427 , -1.4951  ,  0.13418 ,  0.63627 ,  0.35146 ,  0.25813 ,\n",
              "       -0.55029 ,  0.51056 ,  0.37409 ,  0.12092 , -1.6166  ,  0.83653 ,\n",
              "        0.14202 , -0.52348 ,  0.73453 ,  0.12207 , -0.49079 ,  0.32533 ,\n",
              "        0.45306 , -1.585   , -0.63848 , -1.0053  ,  0.10454 , -0.42984 ,\n",
              "        3.181   , -0.62187 ,  0.16819 , -1.0139  ,  0.064058,  0.57844 ,\n",
              "       -0.4556  ,  0.73783 ,  0.37203 , -0.57722 ,  0.66441 ,  0.055129,\n",
              "        0.037891,  1.3275  ,  0.30991 ,  0.50697 ,  1.2357  ,  0.1274  ,\n",
              "       -0.11434 ,  0.20709 ], dtype=float32)"
            ]
          },
          "metadata": {},
          "execution_count": 41
        }
      ]
    },
    {
      "cell_type": "code",
      "source": [
        "import matplotlib.pyplot as plt\n",
        "from sklearn.decomposition import PCA"
      ],
      "metadata": {
        "id": "_oCRanSwZT0i"
      },
      "execution_count": 42,
      "outputs": []
    },
    {
      "cell_type": "code",
      "source": [
        "words = ['computer', 'science', 'software', 'intelligence', 'internet', 'car', 'bike', 'truck']\n",
        "vets = glove_vectors[words]\n",
        "\n",
        "vets_2d = PCA(random_state=0).fit_transform(vets)[:, :2]"
      ],
      "metadata": {
        "id": "3VHXGxoaZyvp"
      },
      "execution_count": 43,
      "outputs": []
    },
    {
      "cell_type": "code",
      "source": [
        "plt.figure(figsize=(5, 5))\n",
        "plt.scatter(vets_2d[:,0], vets_2d[:,1], linewidths=3, color='blue')\n",
        "plt.xlabel(\"x\", size = 10)\n",
        "plt.ylabel(\"y\", size = 10)\n",
        "plt.title(\"Word Embedding Space\", size = 20)\n",
        "\n",
        "for i, word in enumerate(words):\n",
        "  plt.annotate(word, xy = (vets_2d[i, 0], vets_2d[i, 1]))"
      ],
      "metadata": {
        "colab": {
          "base_uri": "https://localhost:8080/",
          "height": 355
        },
        "id": "iC4RTgRcZ0ys",
        "outputId": "1cda88ba-6aa4-4e93-c1d6-89c535395851"
      },
      "execution_count": 44,
      "outputs": [
        {
          "output_type": "display_data",
          "data": {
            "text/plain": [
              "<Figure size 360x360 with 1 Axes>"
            ],
            "image/png": "[encoded data removed]"
          },
          "metadata": {
            "needs_background": "light"
          }
        }
      ]
    },
    {
      "cell_type": "markdown",
      "source": [
        "## Word similarity"
      ],
      "metadata": {
        "id": "JxwUSKJIaCVA"
      }
    },
    {
      "cell_type": "code",
      "source": [
        "glove_vectors.most_similar(\"computer\", topn=5)"
      ],
      "metadata": {
        "colab": {
          "base_uri": "https://localhost:8080/"
        },
        "id": "G0eqaZrPYpKL",
        "outputId": "310cce05-94e1-4f9e-a864-3f3048827f09"
      },
      "execution_count": 45,
      "outputs": [
        {
          "output_type": "execute_result",
          "data": {
            "text/plain": [
              "[('computers', 0.9165046215057373),\n",
              " ('software', 0.8814994096755981),\n",
              " ('technology', 0.852556049823761),\n",
              " ('electronic', 0.812586784362793),\n",
              " ('internet', 0.8060455322265625)]"
            ]
          },
          "metadata": {},
          "execution_count": 45
        }
      ]
    },
    {
      "cell_type": "code",
      "source": [
        "glove_vectors.most_similar(positive=['king', 'woman'], negative=['man'], topn=1)"
      ],
      "metadata": {
        "colab": {
          "base_uri": "https://localhost:8080/"
        },
        "id": "W7p2HGNmZK-Z",
        "outputId": "daca8056-83fb-4dc9-fd72-c7da321eb5a2"
      },
      "execution_count": 46,
      "outputs": [
        {
          "output_type": "execute_result",
          "data": {
            "text/plain": [
              "[('queen', 0.8523603677749634)]"
            ]
          },
          "metadata": {},
          "execution_count": 46
        }
      ]
    },
    {
      "cell_type": "markdown",
      "source": [
        "#  Word embeddings for sentiment analysis"
      ],
      "metadata": {
        "id": "GHQIWiDuakxd"
      }
    },
    {
      "cell_type": "markdown",
      "source": [
        "## Loading and pre-processing the dataset"
      ],
      "metadata": {
        "id": "z_l7NKGxiOQK"
      }
    },
    {
      "cell_type": "code",
      "source": [
        "# Downloading reviews from Amazon (https://nijianmo.github.io/amazon/index.html).\n",
        "!wget https://github.com/ProfLuciano/pln_dl/raw/main/datasets/AMAZON_FASHION_5.json.gz\n",
        "\n",
        "!gzip -d AMAZON_FASHION_5.json.gz\n",
        "\n",
        "import json\n",
        "\n",
        "reviews = []\n",
        "for review in open(\"AMAZON_FASHION_5.json\", \"r\"):\n",
        "  reviews.append(json.loads(review))\n",
        "\n",
        "# Loading the reviews and ratings \n",
        "reviews_only = []\n",
        "for r in reviews:\n",
        "  if set([\"reviewText\", \"overall\"]).issubset(r.keys()):\n",
        "    reviews_only.append({'review': r['reviewText'],\n",
        "                        'rating': r['overall'], })\n",
        "\n",
        "reviews_df = pd.DataFrame(reviews_only)\n",
        "\n",
        "reviews_df.sample(5)"
      ],
      "metadata": {
        "colab": {
          "base_uri": "https://localhost:8080/",
          "height": 484
        },
        "id": "I4o9FGXDatja",
        "outputId": "329dc4e9-841e-4df5-b2ef-be544d23861a"
      },
      "execution_count": 47,
      "outputs": [
        {
          "output_type": "stream",
          "name": "stdout",
          "text": [
            "--2023-03-07 08:29:20--  https://github.com/ProfLuciano/pln_dl/raw/main/datasets/AMAZON_FASHION_5.json.gz\n",
            "Resolving github.com (github.com)... 140.82.113.4\n",
            "Connecting to github.com (github.com)|140.82.113.4|:443... connected.\n",
            "HTTP request sent, awaiting response... 302 Found\n",
            "Location: https://raw.githubusercontent.com/ProfLuciano/pln_dl/main/datasets/AMAZON_FASHION_5.json.gz [following]\n",
            "--2023-03-07 08:29:20--  https://raw.githubusercontent.com/ProfLuciano/pln_dl/main/datasets/AMAZON_FASHION_5.json.gz\n",
            "Resolving raw.githubusercontent.com (raw.githubusercontent.com)... 185.199.109.133, 185.199.111.133, 185.199.110.133, ...\n",
            "Connecting to raw.githubusercontent.com (raw.githubusercontent.com)|185.199.109.133|:443... connected.\n",
            "HTTP request sent, awaiting response... 200 OK\n",
            "Length: 287013 (280K) [application/octet-stream]\n",
            "Saving to: ‘AMAZON_FASHION_5.json.gz’\n",
            "\n",
            "AMAZON_FASHION_5.js 100%[===================>] 280.29K  --.-KB/s    in 0.03s   \n",
            "\n",
            "2023-03-07 08:29:20 (8.70 MB/s) - ‘AMAZON_FASHION_5.json.gz’ saved [287013/287013]\n",
            "\n"
          ]
        },
        {
          "output_type": "execute_result",
          "data": {
            "text/plain": [
              "                                                 review  rating\n",
              "1110  After less than a week the sole ripped off on ...     1.0\n",
              "1827  They fit perfectly. These shoes are great for ...     5.0\n",
              "3053  These shoes look really great. However, slight...     3.0\n",
              "568   Glad I read the reviews and ordered a half siz...     5.0\n",
              "1581  Perfict fit for me. Great looking shoes at a g...     5.0"
            ],
            "text/html": [
              "\n",
              "  <div id=\"df-a374c663-7c33-496c-ae5f-aff622510f6f\">\n",
              "    <div class=\"colab-df-container\">\n",
              "      <div>\n",
              "<style scoped>\n",
              "    .dataframe tbody tr th:only-of-type {\n",
              "        vertical-align: middle;\n",
              "    }\n",
              "\n",
              "    .dataframe tbody tr th {\n",
              "        vertical-align: top;\n",
              "    }\n",
              "\n",
              "    .dataframe thead th {\n",
              "        text-align: right;\n",
              "    }\n",
              "</style>\n",
              "<table border=\"1\" class=\"dataframe\">\n",
              "  <thead>\n",
              "    <tr style=\"text-align: right;\">\n",
              "      <th></th>\n",
              "      <th>review</th>\n",
              "      <th>rating</th>\n",
              "    </tr>\n",
              "  </thead>\n",
              "  <tbody>\n",
              "    <tr>\n",
              "      <th>1110</th>\n",
              "      <td>After less than a week the sole ripped off on ...</td>\n",
              "      <td>1.0</td>\n",
              "    </tr>\n",
              "    <tr>\n",
              "      <th>1827</th>\n",
              "      <td>They fit perfectly. These shoes are great for ...</td>\n",
              "      <td>5.0</td>\n",
              "    </tr>\n",
              "    <tr>\n",
              "      <th>3053</th>\n",
              "      <td>These shoes look really great. However, slight...</td>\n",
              "      <td>3.0</td>\n",
              "    </tr>\n",
              "    <tr>\n",
              "      <th>568</th>\n",
              "      <td>Glad I read the reviews and ordered a half siz...</td>\n",
              "      <td>5.0</td>\n",
              "    </tr>\n",
              "    <tr>\n",
              "      <th>1581</th>\n",
              "      <td>Perfict fit for me. Great looking shoes at a g...</td>\n",
              "      <td>5.0</td>\n",
              "    </tr>\n",
              "  </tbody>\n",
              "</table>\n",
              "</div>\n",
              "      <button class=\"colab-df-convert\" onclick=\"convertToInteractive('df-a374c663-7c33-496c-ae5f-aff622510f6f')\"\n",
              "              title=\"Convert this dataframe to an interactive table.\"\n",
              "              style=\"display:none;\">\n",
              "        \n",
              "  <svg xmlns=\"http://www.w3.org/2000/svg\" height=\"24px\"viewBox=\"0 0 24 24\"\n",
              "       width=\"24px\">\n",
              "    <path d=\"M0 0h24v24H0V0z\" fill=\"none\"/>\n",
              "    <path d=\"M18.56 5.44l.94 2.06.94-2.06 2.06-.94-2.06-.94-.94-2.06-.94 2.06-2.06.94zm-11 1L8.5 8.5l.94-2.06 2.06-.94-2.06-.94L8.5 2.5l-.94 2.06-2.06.94zm10 10l.94 2.06.94-2.06 2.06-.94-2.06-.94-.94-2.06-.94 2.06-2.06.94z\"/><path d=\"M17.41 7.96l-1.37-1.37c-.4-.4-.92-.59-1.43-.59-.52 0-1.04.2-1.43.59L10.3 9.45l-7.72 7.72c-.78.78-.78 2.05 0 2.83L4 21.41c.39.39.9.59 1.41.59.51 0 1.02-.2 1.41-.59l7.78-7.78 2.81-2.81c.8-.78.8-2.07 0-2.86zM5.41 20L4 18.59l7.72-7.72 1.47 1.35L5.41 20z\"/>\n",
              "  </svg>\n",
              "      </button>\n",
              "      \n",
              "  <style>\n",
              "    .colab-df-container {\n",
              "      display:flex;\n",
              "      flex-wrap:wrap;\n",
              "      gap: 12px;\n",
              "    }\n",
              "\n",
              "    .colab-df-convert {\n",
              "      background-color: #E8F0FE;\n",
              "      border: none;\n",
              "      border-radius: 50%;\n",
              "      cursor: pointer;\n",
              "      display: none;\n",
              "      fill: #1967D2;\n",
              "      height: 32px;\n",
              "      padding: 0 0 0 0;\n",
              "      width: 32px;\n",
              "    }\n",
              "\n",
              "    .colab-df-convert:hover {\n",
              "      background-color: #E2EBFA;\n",
              "      box-shadow: 0px 1px 2px rgba(60, 64, 67, 0.3), 0px 1px 3px 1px rgba(60, 64, 67, 0.15);\n",
              "      fill: #174EA6;\n",
              "    }\n",
              "\n",
              "    [theme=dark] .colab-df-convert {\n",
              "      background-color: #3B4455;\n",
              "      fill: #D2E3FC;\n",
              "    }\n",
              "\n",
              "    [theme=dark] .colab-df-convert:hover {\n",
              "      background-color: #434B5C;\n",
              "      box-shadow: 0px 1px 3px 1px rgba(0, 0, 0, 0.15);\n",
              "      filter: drop-shadow(0px 1px 2px rgba(0, 0, 0, 0.3));\n",
              "      fill: #FFFFFF;\n",
              "    }\n",
              "  </style>\n",
              "\n",
              "      <script>\n",
              "        const buttonEl =\n",
              "          document.querySelector('#df-a374c663-7c33-496c-ae5f-aff622510f6f button.colab-df-convert');\n",
              "        buttonEl.style.display =\n",
              "          google.colab.kernel.accessAllowed ? 'block' : 'none';\n",
              "\n",
              "        async function convertToInteractive(key) {\n",
              "          const element = document.querySelector('#df-a374c663-7c33-496c-ae5f-aff622510f6f');\n",
              "          const dataTable =\n",
              "            await google.colab.kernel.invokeFunction('convertToInteractive',\n",
              "                                                     [key], {});\n",
              "          if (!dataTable) return;\n",
              "\n",
              "          const docLinkHtml = 'Like what you see? Visit the ' +\n",
              "            '<a target=\"_blank\" href=https://colab.research.google.com/notebooks/data_table.ipynb>data table notebook</a>'\n",
              "            + ' to learn more about interactive tables.';\n",
              "          element.innerHTML = '';\n",
              "          dataTable['output_type'] = 'display_data';\n",
              "          await google.colab.output.renderOutput(dataTable, element);\n",
              "          const docLink = document.createElement('div');\n",
              "          docLink.innerHTML = docLinkHtml;\n",
              "          element.appendChild(docLink);\n",
              "        }\n",
              "      </script>\n",
              "    </div>\n",
              "  </div>\n",
              "  "
            ]
          },
          "metadata": {},
          "execution_count": 47
        }
      ]
    },
    {
      "cell_type": "code",
      "source": [
        "reviews_df.info()"
      ],
      "metadata": {
        "colab": {
          "base_uri": "https://localhost:8080/"
        },
        "id": "u_VkvPo_kTeY",
        "outputId": "37f2df73-fca1-48a3-d8f8-c331c6b153cb"
      },
      "execution_count": 48,
      "outputs": [
        {
          "output_type": "stream",
          "name": "stdout",
          "text": [
            "<class 'pandas.core.frame.DataFrame'>\n",
            "RangeIndex: 3160 entries, 0 to 3159\n",
            "Data columns (total 2 columns):\n",
            " #   Column  Non-Null Count  Dtype  \n",
            "---  ------  --------------  -----  \n",
            " 0   review  3160 non-null   object \n",
            " 1   rating  3160 non-null   float64\n",
            "dtypes: float64(1), object(1)\n",
            "memory usage: 49.5+ KB\n"
          ]
        }
      ]
    },
    {
      "cell_type": "code",
      "source": [
        "# Pre-processing to train the Word2Vec model\n",
        "import nltk\n",
        "from nltk.tokenize import word_tokenize\n",
        "# Sentence tokenizer\n",
        "nltk.download('punkt')\n",
        "\n",
        "tokenized_sents = [word_tokenize(i) for i in reviews_df['review'].values]"
      ],
      "metadata": {
        "colab": {
          "base_uri": "https://localhost:8080/"
        },
        "id": "9197inXRiYAR",
        "outputId": "ed019cfe-2944-4850-cbc5-31070d546ea9"
      },
      "execution_count": 49,
      "outputs": [
        {
          "output_type": "stream",
          "name": "stderr",
          "text": [
            "[nltk_data] Downloading package punkt to /root/nltk_data...\n",
            "[nltk_data]   Unzipping tokenizers/punkt.zip.\n"
          ]
        }
      ]
    },
    {
      "cell_type": "markdown",
      "source": [
        "## Word2Vec model training"
      ],
      "metadata": {
        "id": "QPFDWkHKiunw"
      }
    },
    {
      "cell_type": "code",
      "source": [
        "from gensim.models import Word2Vec\n",
        "model_review = Word2Vec(tokenized_sents, size=50, window=5, min_count=1, workers=4)"
      ],
      "metadata": {
        "colab": {
          "base_uri": "https://localhost:8080/"
        },
        "id": "MNl-JmTAixKG",
        "outputId": "36cec898-7494-4802-d115-cce9a316be8b"
      },
      "execution_count": 50,
      "outputs": [
        {
          "output_type": "stream",
          "name": "stderr",
          "text": [
            "WARNING:gensim.models.base_any2vec:consider setting layer size to a multiple of 4 for greater performance\n"
          ]
        }
      ]
    },
    {
      "cell_type": "code",
      "source": [
        "model_review['hat']"
      ],
      "metadata": {
        "colab": {
          "base_uri": "https://localhost:8080/"
        },
        "id": "dEz4Xi8odPlq",
        "outputId": "4bde7e61-cd79-4154-a737-b9695acc50a7"
      },
      "execution_count": 51,
      "outputs": [
        {
          "output_type": "stream",
          "name": "stderr",
          "text": [
            "<ipython-input-51-5c938e3bc405>:1: DeprecationWarning: Call to deprecated `__getitem__` (Method will be removed in 4.0.0, use self.wv.__getitem__() instead).\n",
            "  model_review['hat']\n"
          ]
        },
        {
          "output_type": "execute_result",
          "data": {
            "text/plain": [
              "array([-0.0036558 ,  0.00543441, -0.01415282, -0.0102281 , -0.00112001,\n",
              "        0.00893957, -0.00438349, -0.00375832,  0.00775339,  0.00696879,\n",
              "       -0.0138227 ,  0.00837663, -0.01483615, -0.00928367, -0.0050272 ,\n",
              "       -0.00515317,  0.00662946,  0.00227478, -0.00559227, -0.0017259 ,\n",
              "        0.00319551, -0.01707535,  0.00252604,  0.00714869,  0.00701857,\n",
              "        0.00659045, -0.00462356,  0.00603422, -0.01811013, -0.00232506,\n",
              "       -0.01121718,  0.00257193,  0.00163972, -0.01685311, -0.00202698,\n",
              "        0.00828756, -0.00523183, -0.00893312, -0.00721142,  0.00415273,\n",
              "        0.00638724, -0.01675979, -0.00118393, -0.00604048, -0.00652049,\n",
              "        0.00017343,  0.0182262 , -0.01144928,  0.01456657,  0.00031475],\n",
              "      dtype=float32)"
            ]
          },
          "metadata": {},
          "execution_count": 51
        }
      ]
    },
    {
      "cell_type": "code",
      "source": [
        "model_review['shoe']"
      ],
      "metadata": {
        "colab": {
          "base_uri": "https://localhost:8080/"
        },
        "id": "bYw_SuAKdGnx",
        "outputId": "3a89c013-f367-4da5-b8cd-a8a165f63ec2"
      },
      "execution_count": 52,
      "outputs": [
        {
          "output_type": "stream",
          "name": "stderr",
          "text": [
            "<ipython-input-52-fc4f22b1d59f>:1: DeprecationWarning: Call to deprecated `__getitem__` (Method will be removed in 4.0.0, use self.wv.__getitem__() instead).\n",
            "  model_review['shoe']\n"
          ]
        },
        {
          "output_type": "execute_result",
          "data": {
            "text/plain": [
              "array([-0.04492787,  0.14303428, -0.5886915 , -0.6233382 ,  0.47425753,\n",
              "        0.39665195,  0.0125386 , -0.479554  , -0.0582535 , -0.15224989,\n",
              "       -0.9755725 ,  0.08863985, -0.35172567, -0.69195354,  0.01324374,\n",
              "        0.1252765 ,  0.44851178,  0.51575536, -0.378341  , -0.15437774,\n",
              "       -0.03714512, -1.1046635 ,  0.39775124,  0.08639248,  0.7472658 ,\n",
              "       -0.1160992 ,  0.4545284 , -0.07603815, -0.87085694,  0.0328628 ,\n",
              "       -0.14437856, -0.08280274, -0.6177418 , -0.9048694 ,  0.08693212,\n",
              "        0.0510717 , -0.45238712, -0.45680264, -0.6273027 , -0.32454747,\n",
              "        0.14564338, -0.5821431 , -0.37425935, -0.13993438, -0.5815548 ,\n",
              "        0.26549143,  0.7913751 , -0.4338665 ,  0.5666808 , -0.30587643],\n",
              "      dtype=float32)"
            ]
          },
          "metadata": {},
          "execution_count": 52
        }
      ]
    },
    {
      "cell_type": "markdown",
      "source": [
        "## More pre-processing...\n"
      ],
      "metadata": {
        "id": "ZQBdfkSii61J"
      }
    },
    {
      "cell_type": "code",
      "source": [
        "# Calculating the max sentence length\n",
        "X, y = [], []\n",
        "max_len = 0\n",
        "\n",
        "for i, row in reviews_df.iterrows():\n",
        "  vetores = model_review[word_tokenize(row['review'])]\n",
        "\n",
        "  max_len = max(max_len, len(vetores))\n",
        "  X.append(vetores)\n",
        "  y.append(row['rating']-1)\n",
        "print(\"max_len: {}\".format(max_len))"
      ],
      "metadata": {
        "colab": {
          "base_uri": "https://localhost:8080/"
        },
        "id": "U34OLnq1i96-",
        "outputId": "f4706f90-491e-4bbc-e0c7-3b5ec0b6cadb"
      },
      "execution_count": 53,
      "outputs": [
        {
          "output_type": "stream",
          "name": "stderr",
          "text": [
            "<ipython-input-53-738cedb30b7f>:6: DeprecationWarning: Call to deprecated `__getitem__` (Method will be removed in 4.0.0, use self.wv.__getitem__() instead).\n",
            "  vetores = model_review[word_tokenize(row['review'])]\n"
          ]
        },
        {
          "output_type": "stream",
          "name": "stdout",
          "text": [
            "max_len: 311\n"
          ]
        }
      ]
    },
    {
      "cell_type": "code",
      "source": [
        "# Adding padding\n",
        "\n",
        "def transform(examples, dimension):\n",
        "  results = np.zeros((len(examples), dimension, 50))\n",
        "  for i, sequence in enumerate(examples):\n",
        "    results[i, :len(sequence), :] = sequence\n",
        "  return results\n",
        " \n",
        "X = transform(X, max_len)\n",
        "y = np.array(y).astype(\"float32\")"
      ],
      "metadata": {
        "id": "_miLboUZix2Y"
      },
      "execution_count": 54,
      "outputs": []
    },
    {
      "cell_type": "code",
      "source": [
        "# Verificando o shape dos dados pré-processados (instâncias,tokens,num de dimensões do embedding)\n",
        "X.shape"
      ],
      "metadata": {
        "colab": {
          "base_uri": "https://localhost:8080/"
        },
        "id": "6Dp63N4JjWcb",
        "outputId": "d75c5ea5-5757-4d54-919e-d6beb05fd3cc"
      },
      "execution_count": 55,
      "outputs": [
        {
          "output_type": "execute_result",
          "data": {
            "text/plain": [
              "(3160, 311, 50)"
            ]
          },
          "metadata": {},
          "execution_count": 55
        }
      ]
    },
    {
      "cell_type": "markdown",
      "source": [
        "## Split the data"
      ],
      "metadata": {
        "id": "VQwGbn99jct-"
      }
    },
    {
      "cell_type": "code",
      "source": [
        "from sklearn.model_selection import train_test_split\n",
        "\n",
        "X_train, X_test, y_train, y_test = train_test_split(X, y, test_size=0.30, random_state=42)"
      ],
      "metadata": {
        "id": "tw9ws5Q5jfDi"
      },
      "execution_count": 56,
      "outputs": []
    },
    {
      "cell_type": "markdown",
      "source": [
        "## Network architecture\n",
        "\n",
        "\n"
      ],
      "metadata": {
        "id": "yby8QcZIjjzk"
      }
    },
    {
      "cell_type": "code",
      "source": [
        "from tensorflow.keras import Sequential\n",
        "from tensorflow.keras.layers import Dense, Flatten, Dropout\n",
        "\n",
        "model = Sequential()\n",
        "model.add(Flatten(input_shape=(max_len, 50)))\n",
        "model.add(Dense(1000, activation='relu')),\n",
        "model.add(Dropout(0.3))\n",
        "model.add(Dense(1000, activation='relu')),\n",
        "model.add(Dropout(0.3))\n",
        "model.add(Dense(1000, activation='relu')),\n",
        "model.add(Dense(5, activation='softmax'))\n",
        "model.summary()"
      ],
      "metadata": {
        "colab": {
          "base_uri": "https://localhost:8080/"
        },
        "id": "Ko7xkNJ5joVM",
        "outputId": "db3851c9-bb6a-4034-af97-80d7288c1040"
      },
      "execution_count": 57,
      "outputs": [
        {
          "output_type": "stream",
          "name": "stdout",
          "text": [
            "Model: \"sequential\"\n",
            "_________________________________________________________________\n",
            " Layer (type)                Output Shape              Param #   \n",
            "=================================================================\n",
            " flatten (Flatten)           (None, 15550)             0         \n",
            "                                                                 \n",
            " dense (Dense)               (None, 1000)              15551000  \n",
            "                                                                 \n",
            " dropout (Dropout)           (None, 1000)              0         \n",
            "                                                                 \n",
            " dense_1 (Dense)             (None, 1000)              1001000   \n",
            "                                                                 \n",
            " dropout_1 (Dropout)         (None, 1000)              0         \n",
            "                                                                 \n",
            " dense_2 (Dense)             (None, 1000)              1001000   \n",
            "                                                                 \n",
            " dense_3 (Dense)             (None, 5)                 5005      \n",
            "                                                                 \n",
            "=================================================================\n",
            "Total params: 17,558,005\n",
            "Trainable params: 17,558,005\n",
            "Non-trainable params: 0\n",
            "_________________________________________________________________\n"
          ]
        }
      ]
    },
    {
      "cell_type": "code",
      "source": [
        "model.compile(\n",
        " optimizer = \"adam\",\n",
        " loss = \"sparse_categorical_crossentropy\",\n",
        " metrics = [\"accuracy\"]\n",
        ")"
      ],
      "metadata": {
        "id": "n-f-icybjrQ6"
      },
      "execution_count": 58,
      "outputs": []
    },
    {
      "cell_type": "code",
      "source": [
        "results = model.fit(\n",
        " X_train, y_train,\n",
        " epochs= 5,\n",
        " batch_size = 100,\n",
        " validation_data = (X_test, y_test)\n",
        ")"
      ],
      "metadata": {
        "colab": {
          "base_uri": "https://localhost:8080/"
        },
        "id": "QnbGGkkkjtgz",
        "outputId": "cc65ba3a-7773-4368-9259-0e597853b723"
      },
      "execution_count": 59,
      "outputs": [
        {
          "output_type": "stream",
          "name": "stdout",
          "text": [
            "Epoch 1/5\n",
            "23/23 [==============================] - 15s 533ms/step - loss: 1.0743 - accuracy: 0.6569 - val_loss: 0.8207 - val_accuracy: 0.6878\n",
            "Epoch 2/5\n",
            "23/23 [==============================] - 11s 471ms/step - loss: 0.7745 - accuracy: 0.7138 - val_loss: 0.6615 - val_accuracy: 0.7405\n",
            "Epoch 3/5\n",
            "23/23 [==============================] - 13s 556ms/step - loss: 0.5763 - accuracy: 0.7722 - val_loss: 0.4706 - val_accuracy: 0.8217\n",
            "Epoch 4/5\n",
            "23/23 [==============================] - 12s 548ms/step - loss: 0.3928 - accuracy: 0.8662 - val_loss: 0.2984 - val_accuracy: 0.9061\n",
            "Epoch 5/5\n",
            "23/23 [==============================] - 13s 565ms/step - loss: 0.2834 - accuracy: 0.9001 - val_loss: 0.2526 - val_accuracy: 0.9219\n"
          ]
        }
      ]
    }
  ]
}