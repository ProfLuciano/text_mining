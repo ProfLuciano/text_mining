{
  "nbformat": 4,
  "nbformat_minor": 0,
  "metadata": {
    "colab": {
      "provenance": []
    },
    "kernelspec": {
      "name": "python3",
      "display_name": "Python 3"
    },
    "language_info": {
      "name": "python"
    },
    "accelerator": "GPU",
    "gpuClass": "standard"
  },
  "cells": [
    {
      "cell_type": "markdown",
      "metadata": {
        "id": "i9O31NXYtWbF"
      },
      "source": [
        "BERT fine-tuning for sentiment analysis. "
      ]
    },
    {
      "cell_type": "markdown",
      "metadata": {
        "id": "fsACVQpVSifi"
      },
      "source": [
        "### Install the TensorFlow Model Garden pip package\n",
        "\n",
        "*  `tf-models-official` is the stable Model Garden package. Note that it may not include the latest changes in the `tensorflow_models` github repo. To include latest changes, you may install `tf-models-nightly`,\n",
        "which is the nightly Model Garden package created daily automatically.\n",
        "*  pip will install all models and dependencies automatically."
      ]
    },
    {
      "cell_type": "code",
      "source": [
        "!pip install -q -U \"tensorflow==2.8.*\""
      ],
      "metadata": {
        "colab": {
          "base_uri": "https://localhost:8080/"
        },
        "id": "YSV0N_io5ita",
        "outputId": "151d5ef7-7b55-41bc-e211-01d39f55a82a"
      },
      "execution_count": 1,
      "outputs": [
        {
          "output_type": "stream",
          "name": "stdout",
          "text": [
            "\u001b[2K     \u001b[90m━━━━━━━━━━━━━━━━━━━━━━━━━━━━━━━━━━━━━━━\u001b[0m \u001b[32m498.1/498.1 MB\u001b[0m \u001b[31m2.5 MB/s\u001b[0m eta \u001b[36m0:00:00\u001b[0m\n",
            "\u001b[2K     \u001b[90m━━━━━━━━━━━━━━━━━━━━━━━━━━━━━━━━━━━━━━\u001b[0m \u001b[32m462.3/462.3 KB\u001b[0m \u001b[31m18.1 MB/s\u001b[0m eta \u001b[36m0:00:00\u001b[0m\n",
            "\u001b[2K     \u001b[90m━━━━━━━━━━━━━━━━━━━━━━━━━━━━━━━━━━━━━━━━\u001b[0m \u001b[32m5.8/5.8 MB\u001b[0m \u001b[31m29.1 MB/s\u001b[0m eta \u001b[36m0:00:00\u001b[0m\n",
            "\u001b[2K     \u001b[90m━━━━━━━━━━━━━━━━━━━━━━━━━━━━━━━━━━━━━━━━\u001b[0m \u001b[32m42.6/42.6 KB\u001b[0m \u001b[31m2.5 MB/s\u001b[0m eta \u001b[36m0:00:00\u001b[0m\n",
            "\u001b[2K     \u001b[90m━━━━━━━━━━━━━━━━━━━━━━━━━━━━━━━━━━━━━━━━\u001b[0m \u001b[32m1.4/1.4 MB\u001b[0m \u001b[31m28.6 MB/s\u001b[0m eta \u001b[36m0:00:00\u001b[0m\n",
            "\u001b[?25h"
          ]
        }
      ]
    },
    {
      "cell_type": "code",
      "metadata": {
        "id": "NvNr2svBM-p3",
        "colab": {
          "base_uri": "https://localhost:8080/"
        },
        "outputId": "f08649df-fc4a-43a7-889e-648d802528d7"
      },
      "source": [
        "!pip install -q tf-models-official==2.3.0"
      ],
      "execution_count": 2,
      "outputs": [
        {
          "output_type": "stream",
          "name": "stdout",
          "text": [
            "\u001b[2K     \u001b[90m━━━━━━━━━━━━━━━━━━━━━━━━━━━━━━━━━━━━━━\u001b[0m \u001b[32m840.9/840.9 KB\u001b[0m \u001b[31m18.1 MB/s\u001b[0m eta \u001b[36m0:00:00\u001b[0m\n",
            "\u001b[2K     \u001b[90m━━━━━━━━━━━━━━━━━━━━━━━━━━━━━━━━━━━━━━━━\u001b[0m \u001b[32m1.3/1.3 MB\u001b[0m \u001b[31m54.2 MB/s\u001b[0m eta \u001b[36m0:00:00\u001b[0m\n",
            "\u001b[2K     \u001b[90m━━━━━━━━━━━━━━━━━━━━━━━━━━━━━━━━━━━━━━━━\u001b[0m \u001b[32m1.1/1.1 MB\u001b[0m \u001b[31m52.1 MB/s\u001b[0m eta \u001b[36m0:00:00\u001b[0m\n",
            "\u001b[2K     \u001b[90m━━━━━━━━━━━━━━━━━━━━━━━━━━━━━━━━━━━━━━\u001b[0m \u001b[32m238.9/238.9 KB\u001b[0m \u001b[31m22.6 MB/s\u001b[0m eta \u001b[36m0:00:00\u001b[0m\n",
            "\u001b[2K     \u001b[90m━━━━━━━━━━━━━━━━━━━━━━━━━━━━━━━━━━━━━━━\u001b[0m \u001b[32m352.1/352.1 KB\u001b[0m \u001b[31m5.0 MB/s\u001b[0m eta \u001b[36m0:00:00\u001b[0m\n",
            "\u001b[?25h"
          ]
        }
      ]
    },
    {
      "cell_type": "markdown",
      "metadata": {
        "id": "U-7qPCjWUAyy"
      },
      "source": [
        "### Imports"
      ]
    },
    {
      "cell_type": "code",
      "metadata": {
        "id": "lXsXev5MNr20",
        "colab": {
          "base_uri": "https://localhost:8080/"
        },
        "outputId": "9909c29a-b6d1-4c4d-b1ab-adf022ab9897"
      },
      "source": [
        "import os\n",
        "\n",
        "import numpy as np\n",
        "import matplotlib.pyplot as plt\n",
        "\n",
        "import tensorflow as tf\n",
        "#import tensorflow_models as tfm\n",
        "import tensorflow_hub as hub\n",
        "import tensorflow_datasets as tfds\n",
        "tfds.disable_progress_bar()\n",
        "\n",
        "from official.modeling import tf_utils\n",
        "from official import nlp\n",
        "from official.nlp import bert\n",
        "\n",
        "# Load the required submodules\n",
        "import official.nlp.optimization\n",
        "import official.nlp.bert.bert_models\n",
        "import official.nlp.bert.configs\n",
        "import official.nlp.bert.run_classifier\n",
        "import official.nlp.bert.tokenization\n",
        "import official.nlp.data.classifier_data_lib\n",
        "import official.nlp.modeling.losses\n",
        "import official.nlp.modeling.models\n",
        "import official.nlp.modeling.networks"
      ],
      "execution_count": 3,
      "outputs": [
        {
          "output_type": "stream",
          "name": "stderr",
          "text": [
            "/usr/local/lib/python3.9/dist-packages/tensorflow_addons/utils/ensure_tf_install.py:53: UserWarning: Tensorflow Addons supports using Python ops for all Tensorflow versions above or equal to 2.9.0 and strictly below 2.12.0 (nightly versions are not supported). \n",
            " The versions of TensorFlow you are currently using is 2.8.4 and is not supported. \n",
            "Some things might work, some things might not.\n",
            "If you were to encounter a bug, do not file an issue.\n",
            "If you want to make sure you're using a tested and supported configuration, either change the TensorFlow version or the TensorFlow Addons's version. \n",
            "You can find the compatibility matrix in TensorFlow Addon's readme:\n",
            "https://github.com/tensorflow/addons\n",
            "  warnings.warn(\n"
          ]
        }
      ]
    },
    {
      "cell_type": "markdown",
      "metadata": {
        "id": "mbanlzTvJBsz"
      },
      "source": [
        "### Resources"
      ]
    },
    {
      "cell_type": "markdown",
      "metadata": {
        "id": "PpW0x8TpR8DT"
      },
      "source": [
        "This directory contains the configuration, vocabulary, and a pre-trained checkpoint used in this tutorial:"
      ]
    },
    {
      "cell_type": "code",
      "metadata": {
        "id": "vzRHOLciR8eq",
        "outputId": "e963a0f0-ba15-400f-acf0-099c5a86cc97",
        "colab": {
          "base_uri": "https://localhost:8080/"
        }
      },
      "source": [
        "gs_folder_bert = \"gs://cloud-tpu-checkpoints/bert/keras_bert/uncased_L-12_H-768_A-12\"\n",
        "tf.io.gfile.listdir(gs_folder_bert)"
      ],
      "execution_count": 4,
      "outputs": [
        {
          "output_type": "execute_result",
          "data": {
            "text/plain": [
              "['bert_config.json',\n",
              " 'bert_model.ckpt.data-00000-of-00001',\n",
              " 'bert_model.ckpt.index',\n",
              " 'vocab.txt']"
            ]
          },
          "metadata": {},
          "execution_count": 4
        }
      ]
    },
    {
      "cell_type": "markdown",
      "metadata": {
        "id": "9uFskufsR2LT"
      },
      "source": [
        "You can get a pre-trained BERT encoder from [TensorFlow Hub](https://tfhub.dev/tensorflow/bert_en_uncased_L-12_H-768_A-12/2):"
      ]
    },
    {
      "cell_type": "code",
      "metadata": {
        "id": "e0dAkUttJAzj"
      },
      "source": [
        "hub_url_bert = \"https://tfhub.dev/tensorflow/bert_en_uncased_L-12_H-768_A-12/2\""
      ],
      "execution_count": 5,
      "outputs": []
    },
    {
      "cell_type": "markdown",
      "source": [
        "##The Data"
      ],
      "metadata": {
        "id": "uXaN9U9xo1Mb"
      }
    },
    {
      "cell_type": "code",
      "source": [
        "import tensorflow as tf\n",
        "import tensorflow_datasets as tfds\n",
        "\n",
        "imdb, info = tfds.load('imdb_reviews', \n",
        "                       with_info=True,\n",
        "                       split=('train[:60%]', 'train[60%:]', 'test'), \n",
        "                       as_supervised=True)"
      ],
      "metadata": {
        "id": "33G_uPmeo2_a",
        "colab": {
          "base_uri": "https://localhost:8080/"
        },
        "outputId": "640b3865-7330-4e5d-de03-65e3fcb2cab9"
      },
      "execution_count": 6,
      "outputs": [
        {
          "output_type": "stream",
          "name": "stdout",
          "text": [
            "Downloading and preparing dataset Unknown size (download: Unknown size, generated: Unknown size, total: Unknown size) to /root/tensorflow_datasets/imdb_reviews/plain_text/1.0.0...\n",
            "Dataset imdb_reviews downloaded and prepared to /root/tensorflow_datasets/imdb_reviews/plain_text/1.0.0. Subsequent calls will reuse this data.\n"
          ]
        }
      ]
    },
    {
      "cell_type": "code",
      "source": [
        "temp_imdb = tfds.as_numpy(imdb[0])\n",
        "temp_imdb = list(temp_imdb)\n",
        "print(len(temp_imdb))\n",
        "\n",
        "elem, label = temp_imdb[0]\n",
        "print(elem)\n",
        "print(f\"label: {label}\")"
      ],
      "metadata": {
        "colab": {
          "base_uri": "https://localhost:8080/"
        },
        "id": "bsdAcv1-fbuz",
        "outputId": "695eb87b-837b-4f8e-c507-594f50a5c356"
      },
      "execution_count": 7,
      "outputs": [
        {
          "output_type": "stream",
          "name": "stdout",
          "text": [
            "15000\n",
            "b\"This was an absolutely terrible movie. Don't be lured in by Christopher Walken or Michael Ironside. Both are great actors, but this must simply be their worst role in history. Even their great acting could not redeem this movie's ridiculous storyline. This movie is an early nineties US propaganda piece. The most pathetic scenes were those when the Columbian rebels were making their cases for revolutions. Maria Conchita Alonso appeared phony, and her pseudo-love affair with Walken was nothing but a pathetic emotional plug in a movie that was devoid of any real meaning. I am disappointed that there are movies like this, ruining actor's like Christopher Walken's good name. I could barely sit through it.\"\n",
            "label: 0\n"
          ]
        }
      ]
    },
    {
      "cell_type": "code",
      "source": [
        "imdb_train, imdb_validation, imdb_test = imdb"
      ],
      "metadata": {
        "id": "R-7LweJUp6A3"
      },
      "execution_count": 8,
      "outputs": []
    },
    {
      "cell_type": "code",
      "source": [
        "def convert_to_dict_format(data):\n",
        "  reviews = []\n",
        "  labels = []\n",
        "  \n",
        "  for r, l in data:\n",
        "    reviews.append(r.numpy())\n",
        "    labels.append(l.numpy())\n",
        "  \n",
        "  return {'reviews': reviews, 'labels':labels}"
      ],
      "metadata": {
        "id": "g2YsZpdXzbNY"
      },
      "execution_count": 9,
      "outputs": []
    },
    {
      "cell_type": "code",
      "source": [
        "imdb_train = convert_to_dict_format(imdb_train.take(1000))\n",
        "imdb_validation = convert_to_dict_format(imdb_validation.take(500))\n",
        "imdb_test = convert_to_dict_format(imdb_test.take(500))"
      ],
      "metadata": {
        "id": "5ihmqoaIzy8b"
      },
      "execution_count": 10,
      "outputs": []
    },
    {
      "cell_type": "markdown",
      "metadata": {
        "id": "9fbTyfJpNr7x"
      },
      "source": [
        "### The BERT tokenizer"
      ]
    },
    {
      "cell_type": "markdown",
      "metadata": {
        "id": "wqeN54S61ZKQ"
      },
      "source": [
        "To finetune a pre-trained model you need to be sure that you're using exactly the same tokenization, vocabulary, and index mapping as you used during pretraining.\n",
        "\n",
        "The following code rebuilds the tokenizer that was used by the base model:"
      ]
    },
    {
      "cell_type": "code",
      "source": [
        "# Set up tokenizer to generate Tensorflow dataset\n",
        "tokenizer = bert.tokenization.FullTokenizer(\n",
        "    vocab_file=os.path.join(gs_folder_bert, \"vocab.txt\"),\n",
        "     do_lower_case=True)\n",
        "\n",
        "print(\"Vocab size:\", len(tokenizer.vocab))"
      ],
      "metadata": {
        "colab": {
          "base_uri": "https://localhost:8080/"
        },
        "id": "SRs9mzhG7jVK",
        "outputId": "0f8240c1-1765-47b2-8157-8ed84cb6b1e2"
      },
      "execution_count": 11,
      "outputs": [
        {
          "output_type": "stream",
          "name": "stdout",
          "text": [
            "Vocab size: 30522\n"
          ]
        }
      ]
    },
    {
      "cell_type": "markdown",
      "metadata": {
        "id": "zYHDSquU2lDU"
      },
      "source": [
        "Tokenize a sentence:"
      ]
    },
    {
      "cell_type": "code",
      "source": [
        "tokens = tokenizer.tokenize(\"Hello TensorFlow!\")\n",
        "print(tokens)\n",
        "ids = tokenizer.convert_tokens_to_ids(tokens)\n",
        "print(ids)"
      ],
      "metadata": {
        "colab": {
          "base_uri": "https://localhost:8080/"
        },
        "id": "n1xsmIDm7c6_",
        "outputId": "78ba2820-ca1f-4abd-d9aa-b09e6e2d2f41"
      },
      "execution_count": 12,
      "outputs": [
        {
          "output_type": "stream",
          "name": "stdout",
          "text": [
            "['hello', 'tensor', '##flow', '!']\n",
            "[7592, 23435, 12314, 999]\n"
          ]
        }
      ]
    },
    {
      "cell_type": "markdown",
      "metadata": {
        "id": "kkAXLtuyWWDI"
      },
      "source": [
        "### Preprocess the data\n",
        "\n",
        "Let's manually preprocess the dataset into the format expected by the model."
      ]
    },
    {
      "cell_type": "markdown",
      "metadata": {
        "id": "62UTWLQd9-LB"
      },
      "source": [
        "This input is expected to start with a `[CLS]` \"This is a classification problem\" token, and each sentence should end with a `[SEP]` \"Separator\" token:"
      ]
    },
    {
      "cell_type": "code",
      "metadata": {
        "id": "bdL-dRNRBRJT",
        "outputId": "5618e77f-aae7-4ae9-d5a7-e7464b723dc3",
        "colab": {
          "base_uri": "https://localhost:8080/"
        }
      },
      "source": [
        "tokenizer.convert_tokens_to_ids(['[CLS]', '[SEP]'])"
      ],
      "execution_count": 13,
      "outputs": [
        {
          "output_type": "execute_result",
          "data": {
            "text/plain": [
              "[101, 102]"
            ]
          },
          "metadata": {},
          "execution_count": 13
        }
      ]
    },
    {
      "cell_type": "markdown",
      "metadata": {
        "id": "UrPktnqpwqie"
      },
      "source": [
        "Start by encoding all the sentences while appending a `[SEP]` token, and packing them into ragged-tensors:"
      ]
    },
    {
      "cell_type": "code",
      "metadata": {
        "id": "BR7BmtU498Bh"
      },
      "source": [
        "def encode_sentence(s):\n",
        "   tokens = list(tokenizer.tokenize(s))\n",
        "   tokens.append('[SEP]')\n",
        "   return tokenizer.convert_tokens_to_ids(tokens)\n",
        "\n",
        "max_sent_length = 500  # limit to 150 characters\n",
        "reviews = tf.ragged.constant([encode_sentence(s[:max_sent_length]) for s in imdb_train['reviews']])"
      ],
      "execution_count": 14,
      "outputs": []
    },
    {
      "cell_type": "code",
      "metadata": {
        "id": "has42aUdfky-",
        "outputId": "c290ad7a-073e-4288-ee5c-d2a4052a0b95",
        "colab": {
          "base_uri": "https://localhost:8080/"
        }
      },
      "source": [
        "print(\"Reviews shape:\", reviews.shape.as_list())"
      ],
      "execution_count": 15,
      "outputs": [
        {
          "output_type": "stream",
          "name": "stdout",
          "text": [
            "Reviews shape: [1000, None]\n"
          ]
        }
      ]
    },
    {
      "cell_type": "markdown",
      "metadata": {
        "id": "MU9lTWy_xXbb"
      },
      "source": [
        "Now prepend a `[CLS]` token, and concatenate the ragged tensors to form a single `input_word_ids` tensor for each example. "
      ]
    },
    {
      "cell_type": "code",
      "metadata": {
        "id": "USD8uihw-g4J"
      },
      "source": [
        "cls = [tokenizer.convert_tokens_to_ids(['[CLS]'])] * reviews.shape[0]\n",
        "input_word_ids = tf.concat([cls, reviews], axis=-1)"
      ],
      "execution_count": 16,
      "outputs": []
    },
    {
      "cell_type": "code",
      "source": [
        "input_mask = tf.ones_like(input_word_ids).to_tensor()\n",
        "\n",
        "plt.pcolormesh(input_mask)"
      ],
      "metadata": {
        "colab": {
          "base_uri": "https://localhost:8080/",
          "height": 286
        },
        "id": "t6H56MIpMnNH",
        "outputId": "c7423bc4-6114-47ed-8851-36906442b4de"
      },
      "execution_count": 17,
      "outputs": [
        {
          "output_type": "execute_result",
          "data": {
            "text/plain": [
              "<matplotlib.collections.QuadMesh at 0x7fdd402fb220>"
            ]
          },
          "metadata": {},
          "execution_count": 17
        },
        {
          "output_type": "display_data",
          "data": {
            "text/plain": [
              "<Figure size 432x288 with 1 Axes>"
            ],
            "image/png": "[encoded data removed]"
          },
          "metadata": {
            "needs_background": "light"
          }
        }
      ]
    },
    {
      "cell_type": "markdown",
      "metadata": {
        "id": "P5UBnCn8Ii6s"
      },
      "source": [
        "#### Put it all together"
      ]
    },
    {
      "cell_type": "code",
      "source": [
        "len(imdb_train[\"reviews\"])"
      ],
      "metadata": {
        "colab": {
          "base_uri": "https://localhost:8080/"
        },
        "id": "lVywvHqbMXou",
        "outputId": "edebd41a-abe8-4676-9088-dbe78334a062"
      },
      "execution_count": 18,
      "outputs": [
        {
          "output_type": "execute_result",
          "data": {
            "text/plain": [
              "1000"
            ]
          },
          "metadata": {},
          "execution_count": 18
        }
      ]
    },
    {
      "cell_type": "code",
      "source": [
        "imdb_train['reviews'][0]"
      ],
      "metadata": {
        "colab": {
          "base_uri": "https://localhost:8080/"
        },
        "id": "hJu5UBYlow35",
        "outputId": "06557914-b177-4b5f-ace2-25f7a0f3124e"
      },
      "execution_count": 19,
      "outputs": [
        {
          "output_type": "execute_result",
          "data": {
            "text/plain": [
              "b\"This was an absolutely terrible movie. Don't be lured in by Christopher Walken or Michael Ironside. Both are great actors, but this must simply be their worst role in history. Even their great acting could not redeem this movie's ridiculous storyline. This movie is an early nineties US propaganda piece. The most pathetic scenes were those when the Columbian rebels were making their cases for revolutions. Maria Conchita Alonso appeared phony, and her pseudo-love affair with Walken was nothing but a pathetic emotional plug in a movie that was devoid of any real meaning. I am disappointed that there are movies like this, ruining actor's like Christopher Walken's good name. I could barely sit through it.\""
            ]
          },
          "metadata": {},
          "execution_count": 19
        }
      ]
    },
    {
      "cell_type": "code",
      "source": [
        "imdb_train['reviews'][0][:max_sent_length]"
      ],
      "metadata": {
        "colab": {
          "base_uri": "https://localhost:8080/"
        },
        "id": "MDRUYfPwo-Qc",
        "outputId": "284f3791-a426-4da4-f58e-dd5bb7834f54"
      },
      "execution_count": 20,
      "outputs": [
        {
          "output_type": "execute_result",
          "data": {
            "text/plain": [
              "b\"This was an absolutely terrible movie. Don't be lured in by Christopher Walken or Michael Ironside. Both are great actors, but this must simply be their worst role in history. Even their great acting could not redeem this movie's ridiculous storyline. This movie is an early nineties US propaganda piece. The most pathetic scenes were those when the Columbian rebels were making their cases for revolutions. Maria Conchita Alonso appeared phony, and her pseudo-love affair with Walken was nothing but\""
            ]
          },
          "metadata": {},
          "execution_count": 20
        }
      ]
    },
    {
      "cell_type": "code",
      "source": [
        "def encode_sentence(s, tokenizer):\n",
        "   tokens = list(tokenizer.tokenize(s))\n",
        "   tokens.append('[SEP]')\n",
        "   return tokenizer.convert_tokens_to_ids(tokens)\n",
        "\n",
        "print(encode_sentence(imdb_train['reviews'][0][:max_sent_length], tokenizer))"
      ],
      "metadata": {
        "colab": {
          "base_uri": "https://localhost:8080/"
        },
        "id": "51UJ43dVpj4O",
        "outputId": "fac4b2d4-5d98-4478-dea9-ea6aefe7b928"
      },
      "execution_count": 21,
      "outputs": [
        {
          "output_type": "stream",
          "name": "stdout",
          "text": [
            "[2023, 2001, 2019, 7078, 6659, 3185, 1012, 2123, 1005, 1056, 2022, 26673, 1999, 2011, 5696, 3328, 2368, 2030, 2745, 3707, 7363, 1012, 2119, 2024, 2307, 5889, 1010, 2021, 2023, 2442, 3432, 2022, 2037, 5409, 2535, 1999, 2381, 1012, 2130, 2037, 2307, 3772, 2071, 2025, 2417, 21564, 2023, 3185, 1005, 1055, 9951, 9994, 1012, 2023, 3185, 2003, 2019, 2220, 3157, 7368, 2149, 10398, 3538, 1012, 1996, 2087, 17203, 5019, 2020, 2216, 2043, 1996, 25882, 8431, 2020, 2437, 2037, 3572, 2005, 25239, 1012, 3814, 9530, 5428, 2696, 17649, 2596, 6887, 16585, 1010, 1998, 2014, 18404, 1011, 2293, 6771, 2007, 3328, 2368, 2001, 2498, 2021, 102]\n"
          ]
        }
      ]
    },
    {
      "cell_type": "markdown",
      "source": [
        "The following code does:\n",
        "\n",
        "*   Adds the special symbol [CLS]\n",
        "*   Sentence padding \n",
        "*   Adds mask for the special symbols \n",
        "*   Adds a mask for the token position "
      ],
      "metadata": {
        "id": "4Vwdarq1p0e5"
      }
    },
    {
      "cell_type": "code",
      "metadata": {
        "id": "sDGiWYPLEd5a"
      },
      "source": [
        "def bert_encode(imdb, tokenizer):\n",
        "  num_examples = len(imdb['reviews'])\n",
        "  \n",
        "  review = tf.ragged.constant([\n",
        "      encode_sentence(s[:max_sent_length], tokenizer)\n",
        "      for s in imdb[\"reviews\"]])\n",
        "\n",
        "  cls = [tokenizer.convert_tokens_to_ids(['[CLS]'])] * review.shape[0]\n",
        "  input_word_ids = tf.concat([cls, review], axis=-1)\n",
        "\n",
        "  input_mask = tf.ones_like(input_word_ids).to_tensor()\n",
        "\n",
        "  type_cls = tf.zeros_like(cls)\n",
        "  type_s1 = tf.ones_like(review)\n",
        "  \n",
        "  input_type_ids = tf.concat(\n",
        "      [type_cls, type_s1], axis=-1).to_tensor()\n",
        "  \n",
        "  inputs = {\n",
        "      'input_word_ids': input_word_ids.to_tensor(),\n",
        "      'input_mask': input_mask,\n",
        "      'input_type_ids': input_type_ids}\n",
        "\n",
        "  return inputs"
      ],
      "execution_count": 35,
      "outputs": []
    },
    {
      "cell_type": "code",
      "metadata": {
        "id": "yuLKxf6zHxw-"
      },
      "source": [
        "imdb_train_enc = bert_encode(imdb_train, tokenizer)\n",
        "imdb_train_labels = np.array(imdb_train['labels'])\n",
        "\n",
        "imdb_validation_enc = bert_encode(imdb_validation, tokenizer)\n",
        "imdb_validation_labels = np.array(imdb_validation['labels'])\n",
        "\n",
        "imdb_test_enc = bert_encode(imdb_test, tokenizer)\n",
        "imdb_test_labels  = np.array(imdb_test['labels'])"
      ],
      "execution_count": 36,
      "outputs": []
    },
    {
      "cell_type": "code",
      "source": [
        "imdb_train_enc['input_word_ids'][0]"
      ],
      "metadata": {
        "colab": {
          "base_uri": "https://localhost:8080/"
        },
        "id": "C3qFzkn2qw-V",
        "outputId": "9b20dd41-6137-4760-fe82-769d53e9e2ae"
      },
      "execution_count": 40,
      "outputs": [
        {
          "output_type": "execute_result",
          "data": {
            "text/plain": [
              "<tf.Tensor: shape=(166,), dtype=int32, numpy=\n",
              "array([  101,  2023,  2001,  2019,  7078,  6659,  3185,  1012,  2123,\n",
              "        1005,  1056,  2022, 26673,  1999,  2011,  5696,  3328,  2368,\n",
              "        2030,  2745,  3707,  7363,  1012,  2119,  2024,  2307,  5889,\n",
              "        1010,  2021,  2023,  2442,  3432,  2022,  2037,  5409,  2535,\n",
              "        1999,  2381,  1012,  2130,  2037,  2307,  3772,  2071,  2025,\n",
              "        2417, 21564,  2023,  3185,  1005,  1055,  9951,  9994,  1012,\n",
              "        2023,  3185,  2003,  2019,  2220,  3157,  7368,  2149, 10398,\n",
              "        3538,  1012,  1996,  2087, 17203,  5019,  2020,  2216,  2043,\n",
              "        1996, 25882,  8431,  2020,  2437,  2037,  3572,  2005, 25239,\n",
              "        1012,  3814,  9530,  5428,  2696, 17649,  2596,  6887, 16585,\n",
              "        1010,  1998,  2014, 18404,  1011,  2293,  6771,  2007,  3328,\n",
              "        2368,  2001,  2498,  2021,   102,     0,     0,     0,     0,\n",
              "           0,     0,     0,     0,     0,     0,     0,     0,     0,\n",
              "           0,     0,     0,     0,     0,     0,     0,     0,     0,\n",
              "           0,     0,     0,     0,     0,     0,     0,     0,     0,\n",
              "           0,     0,     0,     0,     0,     0,     0,     0,     0,\n",
              "           0,     0,     0,     0,     0,     0,     0,     0,     0,\n",
              "           0,     0,     0,     0,     0,     0,     0,     0,     0,\n",
              "           0,     0,     0,     0], dtype=int32)>"
            ]
          },
          "metadata": {},
          "execution_count": 40
        }
      ]
    },
    {
      "cell_type": "markdown",
      "metadata": {
        "id": "7FC5aLVxKVKK"
      },
      "source": [
        "Each subset of the data has been converted to a dictionary of features, and a set of labels. Each feature in the input dictionary has the same shape, and the number of labels should match:"
      ]
    },
    {
      "cell_type": "code",
      "metadata": {
        "id": "jyjTdGpFhO_1",
        "outputId": "4c763774-b8ca-4b21-aa0e-ed075572b8f0",
        "colab": {
          "base_uri": "https://localhost:8080/"
        }
      },
      "source": [
        "for key, value in imdb_train_enc.items():\n",
        "  print(f'{key:15s} shape: {value.shape}')\n",
        "\n",
        "print(f'imdb_train_labels shape: {imdb_train_labels.shape}')"
      ],
      "execution_count": 41,
      "outputs": [
        {
          "output_type": "stream",
          "name": "stdout",
          "text": [
            "input_word_ids  shape: (1000, 166)\n",
            "input_mask      shape: (1000, 166)\n",
            "input_type_ids  shape: (1000, 166)\n",
            "imdb_train_labels shape: (1000,)\n"
          ]
        }
      ]
    },
    {
      "cell_type": "markdown",
      "metadata": {
        "id": "FSwymsbkbLDA"
      },
      "source": [
        "## The model"
      ]
    },
    {
      "cell_type": "markdown",
      "metadata": {
        "id": "Efrj3Cn1kLAp"
      },
      "source": [
        "### Build the model\n"
      ]
    },
    {
      "cell_type": "markdown",
      "metadata": {
        "id": "xxpOY5r2Ayq6"
      },
      "source": [
        "The first step is to download the configuration  for the pre-trained model.\n"
      ]
    },
    {
      "cell_type": "code",
      "metadata": {
        "id": "ujapVfZ_AKW7",
        "outputId": "f9a67957-704d-4d40-cfa0-df5f25134c32",
        "colab": {
          "base_uri": "https://localhost:8080/"
        }
      },
      "source": [
        "import json\n",
        "\n",
        "bert_config_file = os.path.join(gs_folder_bert, \"bert_config.json\")\n",
        "config_dict = json.loads(tf.io.gfile.GFile(bert_config_file).read())\n",
        "\n",
        "bert_config = bert.configs.BertConfig.from_dict(config_dict)\n",
        "\n",
        "config_dict"
      ],
      "execution_count": 42,
      "outputs": [
        {
          "output_type": "execute_result",
          "data": {
            "text/plain": [
              "{'attention_probs_dropout_prob': 0.1,\n",
              " 'hidden_act': 'gelu',\n",
              " 'hidden_dropout_prob': 0.1,\n",
              " 'hidden_size': 768,\n",
              " 'initializer_range': 0.02,\n",
              " 'intermediate_size': 3072,\n",
              " 'max_position_embeddings': 512,\n",
              " 'num_attention_heads': 12,\n",
              " 'num_hidden_layers': 12,\n",
              " 'type_vocab_size': 2,\n",
              " 'vocab_size': 30522}"
            ]
          },
          "metadata": {},
          "execution_count": 42
        }
      ]
    },
    {
      "cell_type": "markdown",
      "metadata": {
        "id": "96ldxDSwkVkj"
      },
      "source": [
        "The `config` defines the core BERT Model, which is a Keras model to predict the outputs of `num_classes` from the inputs with maximum sequence length `max_seq_length`.\n",
        "\n",
        "This function returns both the encoder and the classifier."
      ]
    },
    {
      "cell_type": "code",
      "metadata": {
        "id": "cH682__U0FBv"
      },
      "source": [
        "bert_classifier, bert_encoder = bert.bert_models.classifier_model(bert_config, num_labels=2)"
      ],
      "execution_count": 43,
      "outputs": []
    },
    {
      "cell_type": "markdown",
      "metadata": {
        "id": "XqKp3-5GIZlw"
      },
      "source": [
        "The classifier has three inputs and one output:"
      ]
    },
    {
      "cell_type": "code",
      "metadata": {
        "id": "bAQblMIjwkvx",
        "outputId": "b5531d3c-8cd2-46f4-8c2b-7a05c68a6bd0",
        "colab": {
          "base_uri": "https://localhost:8080/",
          "height": 220
        }
      },
      "source": [
        "tf.keras.utils.plot_model(bert_classifier, show_shapes=True, dpi=48)"
      ],
      "execution_count": 44,
      "outputs": [
        {
          "output_type": "execute_result",
          "data": {
            "image/png": "[encoded data removed]",
            "text/plain": [
              "<IPython.core.display.Image object>"
            ]
          },
          "metadata": {},
          "execution_count": 44
        }
      ]
    },
    {
      "cell_type": "markdown",
      "metadata": {
        "id": "Q0NTdwZsQK8n"
      },
      "source": [
        "The `TransformerEncoder` in the center of the classifier above **is** the `bert_encoder`.\n",
        "\n",
        "Inspecting the encoder, we see its stack of `Transformer` layers connected to those same three inputs:"
      ]
    },
    {
      "cell_type": "code",
      "metadata": {
        "id": "8L__-erBwLIQ",
        "outputId": "e3469d4b-21a6-40d5-e047-7a969c4be02a",
        "colab": {
          "base_uri": "https://localhost:8080/",
          "height": 1000
        }
      },
      "source": [
        "tf.keras.utils.plot_model(bert_encoder, show_shapes=True, dpi=48)"
      ],
      "execution_count": 45,
      "outputs": [
        {
          "output_type": "execute_result",
          "data": {
            "image/png": "[encoded data removed]",
            "text/plain": [
              "<IPython.core.display.Image object>"
            ]
          },
          "metadata": {},
          "execution_count": 45
        }
      ]
    },
    {
      "cell_type": "markdown",
      "metadata": {
        "id": "mKAvkQc3heSy"
      },
      "source": [
        "### Restore the encoder weights\n",
        "\n",
        "When built the encoder is randomly initialized. Restore the encoder's weights from the checkpoint:"
      ]
    },
    {
      "cell_type": "code",
      "metadata": {
        "id": "97Ll2Gichd_Y",
        "outputId": "7537e7fd-3b3f-4da9-e82d-d80942b4c7c7",
        "colab": {
          "base_uri": "https://localhost:8080/"
        }
      },
      "source": [
        "checkpoint = tf.train.Checkpoint(model=bert_encoder)\n",
        "checkpoint.restore(\n",
        "    os.path.join(gs_folder_bert, 'bert_model.ckpt')).assert_consumed()"
      ],
      "execution_count": 46,
      "outputs": [
        {
          "output_type": "execute_result",
          "data": {
            "text/plain": [
              "<tensorflow.python.training.tracking.util.CheckpointLoadStatus at 0x7fddcdf85dc0>"
            ]
          },
          "metadata": {},
          "execution_count": 46
        }
      ]
    },
    {
      "cell_type": "markdown",
      "metadata": {
        "id": "2oHOql35k3Dd"
      },
      "source": [
        "Note: The pretrained `TransformerEncoder` is also available on [TensorFlow Hub](https://tensorflow.org/hub). See the [Hub appendix](#hub_bert) for details. "
      ]
    },
    {
      "cell_type": "markdown",
      "metadata": {
        "id": "115caFLMk-_l"
      },
      "source": [
        "### Set up the optimizer\n",
        "\n",
        "BERT adopts the Adam optimizer with weight decay (aka \"[AdamW](https://arxiv.org/abs/1711.05101)\").\n",
        "It also employs a learning rate schedule that firstly warms up from 0 and then decays to 0."
      ]
    },
    {
      "cell_type": "code",
      "metadata": {
        "id": "w8qXKRZuCwW4"
      },
      "source": [
        "# Set up epochs and steps\n",
        "epochs = 3\n",
        "batch_size = 32\n",
        "eval_batch_size = 32\n",
        "\n",
        "train_data_size = len(imdb_train_labels)\n",
        "steps_per_epoch = int(train_data_size / batch_size)\n",
        "num_train_steps = steps_per_epoch * epochs\n",
        "warmup_steps = int(epochs * train_data_size * 0.1 / batch_size)\n",
        "\n",
        "# creates an optimizer with learning rate schedule\n",
        "optimizer = nlp.optimization.create_optimizer(\n",
        "    2e-5, num_train_steps=num_train_steps, num_warmup_steps=warmup_steps)"
      ],
      "execution_count": 48,
      "outputs": []
    },
    {
      "cell_type": "markdown",
      "metadata": {
        "id": "pXRGxiRNEHS2"
      },
      "source": [
        "This returns an `AdamWeightDecay`  optimizer with the learning rate schedule set:"
      ]
    },
    {
      "cell_type": "markdown",
      "metadata": {
        "id": "78FEUOOEkoP0"
      },
      "source": [
        "### Train the model"
      ]
    },
    {
      "cell_type": "markdown",
      "metadata": {
        "id": "OTNcA0O0nSq9"
      },
      "source": [
        "The metric is accuracy and we use sparse categorical cross-entropy as loss."
      ]
    },
    {
      "cell_type": "markdown",
      "source": [],
      "metadata": {
        "id": "mtFnfEOKbNcC"
      }
    },
    {
      "cell_type": "code",
      "metadata": {
        "id": "nzi8hjeTQTRs",
        "outputId": "2356ce23-b1b5-4f98-a785-669f4a048127",
        "colab": {
          "base_uri": "https://localhost:8080/"
        }
      },
      "source": [
        "metrics = [tf.keras.metrics.SparseCategoricalAccuracy('accuracy', dtype=tf.float32)]\n",
        "loss = tf.keras.losses.SparseCategoricalCrossentropy(from_logits=True)\n",
        "\n",
        "bert_classifier.compile(\n",
        "    optimizer=optimizer,\n",
        "    loss=loss,\n",
        "    metrics=metrics)\n",
        "\n",
        "bert_classifier.fit(\n",
        "      imdb_train_enc, imdb_train_labels,\n",
        "      validation_data=(imdb_validation_enc, imdb_validation_labels),\n",
        "      batch_size=batch_size,\n",
        "      epochs=epochs)"
      ],
      "execution_count": 49,
      "outputs": [
        {
          "output_type": "stream",
          "name": "stdout",
          "text": [
            "Epoch 1/3\n",
            "32/32 [==============================] - 60s 1s/step - loss: 0.6771 - accuracy: 0.5650 - val_loss: 0.6174 - val_accuracy: 0.7140\n",
            "Epoch 2/3\n",
            "32/32 [==============================] - 41s 1s/step - loss: 0.5439 - accuracy: 0.7790 - val_loss: 0.4535 - val_accuracy: 0.8280\n",
            "Epoch 3/3\n",
            "32/32 [==============================] - 40s 1s/step - loss: 0.4050 - accuracy: 0.8630 - val_loss: 0.4123 - val_accuracy: 0.8460\n"
          ]
        },
        {
          "output_type": "execute_result",
          "data": {
            "text/plain": [
              "<keras.callbacks.History at 0x7fdd41c4c0a0>"
            ]
          },
          "metadata": {},
          "execution_count": 49
        }
      ]
    },
    {
      "cell_type": "markdown",
      "metadata": {
        "id": "IFtKFWbNKb0u"
      },
      "source": [
        "Now run the fine-tuned model on a custom example to see that it works.\n",
        "\n",
        "Start by encoding some sentence pairs:"
      ]
    },
    {
      "cell_type": "markdown",
      "metadata": {
        "id": "7ynJibkBRTJF"
      },
      "source": [
        "The model should report class `1` \"match\" for the first example and class `0` \"no-match\" for the second:"
      ]
    },
    {
      "cell_type": "code",
      "metadata": {
        "id": "umo0ttrgRYIM"
      },
      "source": [
        "result = bert_classifier(imdb_test_enc, training=False)"
      ],
      "execution_count": 50,
      "outputs": []
    },
    {
      "cell_type": "code",
      "source": [
        "result = tf.argmax(result, axis=1).numpy()"
      ],
      "metadata": {
        "id": "Hestd2AzECXz"
      },
      "execution_count": 51,
      "outputs": []
    },
    {
      "cell_type": "code",
      "source": [
        "from sklearn.metrics import classification_report\n",
        "\n",
        "print(classification_report(imdb_test_labels, result, target_names=info.features['label'].names))"
      ],
      "metadata": {
        "colab": {
          "base_uri": "https://localhost:8080/"
        },
        "id": "cPk28V7vD_CZ",
        "outputId": "788f882d-3c64-48a9-dab2-163fb682ea4d"
      },
      "execution_count": 52,
      "outputs": [
        {
          "output_type": "stream",
          "name": "stdout",
          "text": [
            "              precision    recall  f1-score   support\n",
            "\n",
            "         neg       0.84      0.88      0.86       251\n",
            "         pos       0.87      0.83      0.85       249\n",
            "\n",
            "    accuracy                           0.85       500\n",
            "   macro avg       0.85      0.85      0.85       500\n",
            "weighted avg       0.85      0.85      0.85       500\n",
            "\n"
          ]
        }
      ]
    }
  ]
}